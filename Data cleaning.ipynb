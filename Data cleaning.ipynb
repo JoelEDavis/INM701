{
 "cells": [
  {
   "cell_type": "markdown",
   "id": "24b83c4e",
   "metadata": {},
   "source": [
    "  # Data Cleaning"
   ]
  },
  {
   "cell_type": "markdown",
   "id": "b7d18d94",
   "metadata": {},
   "source": [
    "The purpose of this activity is to impute data for variables that will be for model building and also resolve any data quality issues we observed during exploration"
   ]
  },
  {
   "cell_type": "code",
   "execution_count": 289,
   "id": "56e031ea",
   "metadata": {},
   "outputs": [],
   "source": [
    "import pandas as pd \n",
    "import numpy as np \n",
    "import os\n",
    "import math\n",
    "\n",
    "import matplotlib.pyplot as plt\n",
    "import seaborn as sns\n",
    "sns.set()\n",
    "\n",
    "from fuzzywuzzy import fuzz\n",
    "from fuzzywuzzy import process\n",
    "\n",
    "from wordcloud import WordCloud\n",
    "from wordcloud import STOPWORDS\n",
    "import nltk\n"
   ]
  },
  {
   "cell_type": "markdown",
   "id": "6d40ce97",
   "metadata": {},
   "source": [
    "## Load Data"
   ]
  },
  {
   "cell_type": "code",
   "execution_count": 290,
   "id": "788b9d93",
   "metadata": {},
   "outputs": [],
   "source": [
    "path = \".\"\n",
    "fname = os.path.join(path, \"raw_data.csv\")\n",
    "df = pd.read_csv(fname)"
   ]
  },
  {
   "cell_type": "code",
   "execution_count": 291,
   "id": "e2dd548e",
   "metadata": {},
   "outputs": [],
   "source": [
    "columns=['company', 'timestamp','title', 'totalyearlycompensation', 'location', 'yearsofexperience', 'yearsatcompany', \n",
    "         'tag','gender', 'Race', 'Education', 'rowNumber', 'otherdetails', 'basesalary', 'stockgrantvalue'\n",
    "         , 'bonus']\n",
    "df = df[columns]"
   ]
  },
  {
   "cell_type": "code",
   "execution_count": 292,
   "id": "a2b10c12",
   "metadata": {},
   "outputs": [
    {
     "data": {
      "text/html": [
       "<div>\n",
       "<style scoped>\n",
       "    .dataframe tbody tr th:only-of-type {\n",
       "        vertical-align: middle;\n",
       "    }\n",
       "\n",
       "    .dataframe tbody tr th {\n",
       "        vertical-align: top;\n",
       "    }\n",
       "\n",
       "    .dataframe thead th {\n",
       "        text-align: right;\n",
       "    }\n",
       "</style>\n",
       "<table border=\"1\" class=\"dataframe\">\n",
       "  <thead>\n",
       "    <tr style=\"text-align: right;\">\n",
       "      <th></th>\n",
       "      <th>company</th>\n",
       "      <th>timestamp</th>\n",
       "      <th>title</th>\n",
       "      <th>totalyearlycompensation</th>\n",
       "      <th>location</th>\n",
       "      <th>yearsofexperience</th>\n",
       "      <th>yearsatcompany</th>\n",
       "      <th>tag</th>\n",
       "      <th>gender</th>\n",
       "      <th>Race</th>\n",
       "      <th>Education</th>\n",
       "      <th>rowNumber</th>\n",
       "      <th>otherdetails</th>\n",
       "      <th>basesalary</th>\n",
       "      <th>stockgrantvalue</th>\n",
       "      <th>bonus</th>\n",
       "    </tr>\n",
       "  </thead>\n",
       "  <tbody>\n",
       "    <tr>\n",
       "      <th>0</th>\n",
       "      <td>Oracle</td>\n",
       "      <td>6/7/2017 11:33:27</td>\n",
       "      <td>Product Manager</td>\n",
       "      <td>127000</td>\n",
       "      <td>Redwood City, CA</td>\n",
       "      <td>1.5</td>\n",
       "      <td>1.5</td>\n",
       "      <td>NaN</td>\n",
       "      <td>NaN</td>\n",
       "      <td>NaN</td>\n",
       "      <td>NaN</td>\n",
       "      <td>1</td>\n",
       "      <td>NaN</td>\n",
       "      <td>107000.0</td>\n",
       "      <td>20000.0</td>\n",
       "      <td>10000.0</td>\n",
       "    </tr>\n",
       "    <tr>\n",
       "      <th>1</th>\n",
       "      <td>eBay</td>\n",
       "      <td>6/10/2017 17:11:29</td>\n",
       "      <td>Software Engineer</td>\n",
       "      <td>100000</td>\n",
       "      <td>San Francisco, CA</td>\n",
       "      <td>5.0</td>\n",
       "      <td>3.0</td>\n",
       "      <td>NaN</td>\n",
       "      <td>NaN</td>\n",
       "      <td>NaN</td>\n",
       "      <td>NaN</td>\n",
       "      <td>2</td>\n",
       "      <td>NaN</td>\n",
       "      <td>0.0</td>\n",
       "      <td>0.0</td>\n",
       "      <td>0.0</td>\n",
       "    </tr>\n",
       "    <tr>\n",
       "      <th>2</th>\n",
       "      <td>Amazon</td>\n",
       "      <td>6/11/2017 14:53:57</td>\n",
       "      <td>Product Manager</td>\n",
       "      <td>310000</td>\n",
       "      <td>Seattle, WA</td>\n",
       "      <td>8.0</td>\n",
       "      <td>0.0</td>\n",
       "      <td>NaN</td>\n",
       "      <td>NaN</td>\n",
       "      <td>NaN</td>\n",
       "      <td>NaN</td>\n",
       "      <td>3</td>\n",
       "      <td>NaN</td>\n",
       "      <td>155000.0</td>\n",
       "      <td>0.0</td>\n",
       "      <td>0.0</td>\n",
       "    </tr>\n",
       "    <tr>\n",
       "      <th>3</th>\n",
       "      <td>Apple</td>\n",
       "      <td>6/17/2017 0:23:14</td>\n",
       "      <td>Software Engineering Manager</td>\n",
       "      <td>372000</td>\n",
       "      <td>Sunnyvale, CA</td>\n",
       "      <td>7.0</td>\n",
       "      <td>5.0</td>\n",
       "      <td>NaN</td>\n",
       "      <td>NaN</td>\n",
       "      <td>NaN</td>\n",
       "      <td>NaN</td>\n",
       "      <td>7</td>\n",
       "      <td>NaN</td>\n",
       "      <td>157000.0</td>\n",
       "      <td>180000.0</td>\n",
       "      <td>35000.0</td>\n",
       "    </tr>\n",
       "    <tr>\n",
       "      <th>4</th>\n",
       "      <td>Microsoft</td>\n",
       "      <td>6/20/2017 10:58:51</td>\n",
       "      <td>Software Engineer</td>\n",
       "      <td>157000</td>\n",
       "      <td>Mountain View, CA</td>\n",
       "      <td>5.0</td>\n",
       "      <td>3.0</td>\n",
       "      <td>NaN</td>\n",
       "      <td>NaN</td>\n",
       "      <td>NaN</td>\n",
       "      <td>NaN</td>\n",
       "      <td>9</td>\n",
       "      <td>NaN</td>\n",
       "      <td>0.0</td>\n",
       "      <td>0.0</td>\n",
       "      <td>0.0</td>\n",
       "    </tr>\n",
       "  </tbody>\n",
       "</table>\n",
       "</div>"
      ],
      "text/plain": [
       "     company           timestamp                         title  \\\n",
       "0     Oracle   6/7/2017 11:33:27               Product Manager   \n",
       "1       eBay  6/10/2017 17:11:29             Software Engineer   \n",
       "2     Amazon  6/11/2017 14:53:57               Product Manager   \n",
       "3      Apple   6/17/2017 0:23:14  Software Engineering Manager   \n",
       "4  Microsoft  6/20/2017 10:58:51             Software Engineer   \n",
       "\n",
       "   totalyearlycompensation           location  yearsofexperience  \\\n",
       "0                   127000   Redwood City, CA                1.5   \n",
       "1                   100000  San Francisco, CA                5.0   \n",
       "2                   310000        Seattle, WA                8.0   \n",
       "3                   372000      Sunnyvale, CA                7.0   \n",
       "4                   157000  Mountain View, CA                5.0   \n",
       "\n",
       "   yearsatcompany  tag gender Race Education  rowNumber otherdetails  \\\n",
       "0             1.5  NaN    NaN  NaN       NaN          1          NaN   \n",
       "1             3.0  NaN    NaN  NaN       NaN          2          NaN   \n",
       "2             0.0  NaN    NaN  NaN       NaN          3          NaN   \n",
       "3             5.0  NaN    NaN  NaN       NaN          7          NaN   \n",
       "4             3.0  NaN    NaN  NaN       NaN          9          NaN   \n",
       "\n",
       "   basesalary  stockgrantvalue    bonus  \n",
       "0    107000.0          20000.0  10000.0  \n",
       "1         0.0              0.0      0.0  \n",
       "2    155000.0              0.0      0.0  \n",
       "3    157000.0         180000.0  35000.0  \n",
       "4         0.0              0.0      0.0  "
      ]
     },
     "metadata": {},
     "output_type": "display_data"
    }
   ],
   "source": [
    "display(df.head())"
   ]
  },
  {
   "cell_type": "markdown",
   "id": "8a2c6ed4-ab1f-4bc6-8d92-2d184f7b0e0c",
   "metadata": {},
   "source": [
    "## Clean Company"
   ]
  },
  {
   "cell_type": "code",
   "execution_count": 293,
   "id": "2dfec324",
   "metadata": {},
   "outputs": [
    {
     "name": "stdout",
     "output_type": "stream",
     "text": [
      "Before cleaning: 1631\n"
     ]
    }
   ],
   "source": [
    "t = df.groupby(['company']).count().sort_values(by=['timestamp'], ascending = False).rename(columns={'timestamp':'count'}).reset_index() #data clean up \n",
    "t[['company', 'count']]\n",
    "print(\"Before cleaning: {}\".format(len(t.company)))"
   ]
  },
  {
   "cell_type": "code",
   "execution_count": 294,
   "id": "61c0ff4e",
   "metadata": {},
   "outputs": [
    {
     "name": "stdout",
     "output_type": "stream",
     "text": [
      "After cleaning: 1100\n"
     ]
    }
   ],
   "source": [
    "t['company_clean'] = t.company.str.rstrip().str.lstrip().str.upper()\n",
    "print(\"After cleaning: {}\".format(len(t.company_clean.unique()))) "
   ]
  },
  {
   "cell_type": "code",
   "execution_count": 295,
   "id": "93d6ee7d",
   "metadata": {},
   "outputs": [
    {
     "data": {
      "text/html": [
       "<div>\n",
       "<style scoped>\n",
       "    .dataframe tbody tr th:only-of-type {\n",
       "        vertical-align: middle;\n",
       "    }\n",
       "\n",
       "    .dataframe tbody tr th {\n",
       "        vertical-align: top;\n",
       "    }\n",
       "\n",
       "    .dataframe thead th {\n",
       "        text-align: right;\n",
       "    }\n",
       "</style>\n",
       "<table border=\"1\" class=\"dataframe\">\n",
       "  <thead>\n",
       "    <tr style=\"text-align: right;\">\n",
       "      <th></th>\n",
       "      <th>company_clean</th>\n",
       "      <th>count_</th>\n",
       "      <th>cum_count</th>\n",
       "      <th>cum_perc</th>\n",
       "    </tr>\n",
       "  </thead>\n",
       "  <tbody>\n",
       "    <tr>\n",
       "      <th>0</th>\n",
       "      <td>AMAZON</td>\n",
       "      <td>8199</td>\n",
       "      <td>8199</td>\n",
       "      <td>13.089707</td>\n",
       "    </tr>\n",
       "    <tr>\n",
       "      <th>1</th>\n",
       "      <td>MICROSOFT</td>\n",
       "      <td>5241</td>\n",
       "      <td>13440</td>\n",
       "      <td>21.456966</td>\n",
       "    </tr>\n",
       "    <tr>\n",
       "      <th>2</th>\n",
       "      <td>GOOGLE</td>\n",
       "      <td>4363</td>\n",
       "      <td>17803</td>\n",
       "      <td>28.422498</td>\n",
       "    </tr>\n",
       "    <tr>\n",
       "      <th>3</th>\n",
       "      <td>FACEBOOK</td>\n",
       "      <td>3004</td>\n",
       "      <td>20807</td>\n",
       "      <td>33.218385</td>\n",
       "    </tr>\n",
       "    <tr>\n",
       "      <th>4</th>\n",
       "      <td>APPLE</td>\n",
       "      <td>2047</td>\n",
       "      <td>22854</td>\n",
       "      <td>36.486422</td>\n",
       "    </tr>\n",
       "    <tr>\n",
       "      <th>5</th>\n",
       "      <td>ORACLE</td>\n",
       "      <td>1143</td>\n",
       "      <td>23997</td>\n",
       "      <td>38.311222</td>\n",
       "    </tr>\n",
       "    <tr>\n",
       "      <th>6</th>\n",
       "      <td>SALESFORCE</td>\n",
       "      <td>1065</td>\n",
       "      <td>25062</td>\n",
       "      <td>40.011495</td>\n",
       "    </tr>\n",
       "    <tr>\n",
       "      <th>7</th>\n",
       "      <td>INTEL</td>\n",
       "      <td>966</td>\n",
       "      <td>26028</td>\n",
       "      <td>41.553714</td>\n",
       "    </tr>\n",
       "    <tr>\n",
       "      <th>8</th>\n",
       "      <td>IBM</td>\n",
       "      <td>927</td>\n",
       "      <td>26955</td>\n",
       "      <td>43.033670</td>\n",
       "    </tr>\n",
       "    <tr>\n",
       "      <th>9</th>\n",
       "      <td>CISCO</td>\n",
       "      <td>923</td>\n",
       "      <td>27878</td>\n",
       "      <td>44.507240</td>\n",
       "    </tr>\n",
       "    <tr>\n",
       "      <th>10</th>\n",
       "      <td>UBER</td>\n",
       "      <td>893</td>\n",
       "      <td>28771</td>\n",
       "      <td>45.932915</td>\n",
       "    </tr>\n",
       "    <tr>\n",
       "      <th>11</th>\n",
       "      <td>CAPITAL ONE</td>\n",
       "      <td>786</td>\n",
       "      <td>29557</td>\n",
       "      <td>47.187764</td>\n",
       "    </tr>\n",
       "    <tr>\n",
       "      <th>12</th>\n",
       "      <td>LINKEDIN</td>\n",
       "      <td>750</td>\n",
       "      <td>30307</td>\n",
       "      <td>48.385140</td>\n",
       "    </tr>\n",
       "    <tr>\n",
       "      <th>13</th>\n",
       "      <td>VMWARE</td>\n",
       "      <td>682</td>\n",
       "      <td>30989</td>\n",
       "      <td>49.473953</td>\n",
       "    </tr>\n",
       "  </tbody>\n",
       "</table>\n",
       "</div>"
      ],
      "text/plain": [
       "   company_clean  count_  cum_count   cum_perc\n",
       "0         AMAZON    8199       8199  13.089707\n",
       "1      MICROSOFT    5241      13440  21.456966\n",
       "2         GOOGLE    4363      17803  28.422498\n",
       "3       FACEBOOK    3004      20807  33.218385\n",
       "4          APPLE    2047      22854  36.486422\n",
       "5         ORACLE    1143      23997  38.311222\n",
       "6     SALESFORCE    1065      25062  40.011495\n",
       "7          INTEL     966      26028  41.553714\n",
       "8            IBM     927      26955  43.033670\n",
       "9          CISCO     923      27878  44.507240\n",
       "10          UBER     893      28771  45.932915\n",
       "11   CAPITAL ONE     786      29557  47.187764\n",
       "12      LINKEDIN     750      30307  48.385140\n",
       "13        VMWARE     682      30989  49.473953"
      ]
     },
     "execution_count": 295,
     "metadata": {},
     "output_type": "execute_result"
    }
   ],
   "source": [
    "#After cleaning see how salaries are reported across companies \n",
    "df['company_clean'] = df.company.str.rstrip().str.lstrip().str.upper()\n",
    "s = df.groupby(['company_clean']).count().sort_values(by=['timestamp'], ascending = False).rename(columns={'timestamp':'count_'}).reset_index() #data clean up \n",
    "s = s[['company_clean', 'count_']] # need data cleaning?\n",
    "s['cum_count'] = s['count_'].cumsum()\n",
    "s['cum_perc'] = (s['cum_count']/s.count_.sum())*100\n",
    "s[s.cum_perc <= 50.0]  #see how many companies it takes to capture 50% of data "
   ]
  },
  {
   "cell_type": "code",
   "execution_count": 296,
   "id": "409ef5d9",
   "metadata": {},
   "outputs": [
    {
     "name": "stdout",
     "output_type": "stream",
     "text": [
      "Num of companies with 95% data: 599\n",
      "Num of companies with 90% data: 343\n",
      "Num of companies with 80% of data: 137\n",
      "Num of companies with 70% data: 63\n",
      "Num of companies with 50% data: 14\n"
     ]
    }
   ],
   "source": [
    "print(\"Num of companies with 95% data:\", s[s.cum_perc <= 95.0].count()[0]) \n",
    "print(\"Num of companies with 90% data:\", s[s.cum_perc <= 90.0].count()[0])\n",
    "print(\"Num of companies with 80% of data:\", s[s.cum_perc <= 80.0].count()[0])\n",
    "print(\"Num of companies with 70% data:\", s[s.cum_perc <= 70.0].count()[0])\n",
    "print(\"Num of companies with 50% data:\", s[s.cum_perc <= 50.0].count()[0]) "
   ]
  },
  {
   "cell_type": "code",
   "execution_count": 297,
   "id": "7c50bb9c",
   "metadata": {},
   "outputs": [],
   "source": [
    "company_names = t.company_clean.unique()\n",
    "\n",
    "#try levenshtein to see if we can clean up the names more \n",
    "cols = [\"Company\", \"ClosestMatch\", \"Score\"]\n",
    "df_companyClosestMatch = pd.DataFrame(columns = cols)\n",
    "\n",
    "for company in company_names:\n",
    "    max_score = 0\n",
    "    closestMatch = None\n",
    "    #company_name = None \n",
    "    for val_to_compare in company_names:\n",
    "        if val_to_compare == company:\n",
    "            continue \n",
    "        else:\n",
    "            score =  fuzz.token_sort_ratio(company, val_to_compare)\n",
    "            if score > max_score:\n",
    "                max_score = score \n",
    "                closestMatch = val_to_compare\n",
    "    df_companyClosestMatch = df_companyClosestMatch.append(pd.DataFrame({\"Company\": [company],\n",
    "                                                 \"ClosestMatch\": [closestMatch],\n",
    "                                                 \"Score\": [max_score]\n",
    "                                                   }))\n"
   ]
  },
  {
   "cell_type": "code",
   "execution_count": 298,
   "id": "1e5256f6",
   "metadata": {},
   "outputs": [
    {
     "data": {
      "text/html": [
       "<div>\n",
       "<style scoped>\n",
       "    .dataframe tbody tr th:only-of-type {\n",
       "        vertical-align: middle;\n",
       "    }\n",
       "\n",
       "    .dataframe tbody tr th {\n",
       "        vertical-align: top;\n",
       "    }\n",
       "\n",
       "    .dataframe thead th {\n",
       "        text-align: right;\n",
       "    }\n",
       "</style>\n",
       "<table border=\"1\" class=\"dataframe\">\n",
       "  <thead>\n",
       "    <tr style=\"text-align: right;\">\n",
       "      <th></th>\n",
       "      <th>Company</th>\n",
       "      <th>ClosestMatch</th>\n",
       "      <th>Score</th>\n",
       "    </tr>\n",
       "  </thead>\n",
       "  <tbody>\n",
       "    <tr>\n",
       "      <th>0</th>\n",
       "      <td>AMAZON</td>\n",
       "      <td>AMZON</td>\n",
       "      <td>91</td>\n",
       "    </tr>\n",
       "    <tr>\n",
       "      <th>0</th>\n",
       "      <td>MICROSOFT</td>\n",
       "      <td>MICRON</td>\n",
       "      <td>67</td>\n",
       "    </tr>\n",
       "    <tr>\n",
       "      <th>0</th>\n",
       "      <td>GOOGLE</td>\n",
       "      <td>GOOGLE LLC</td>\n",
       "      <td>75</td>\n",
       "    </tr>\n",
       "    <tr>\n",
       "      <th>0</th>\n",
       "      <td>FACEBOOK</td>\n",
       "      <td>FACTSET</td>\n",
       "      <td>53</td>\n",
       "    </tr>\n",
       "    <tr>\n",
       "      <th>0</th>\n",
       "      <td>APPLE</td>\n",
       "      <td>RIPPLE</td>\n",
       "      <td>73</td>\n",
       "    </tr>\n",
       "    <tr>\n",
       "      <th>...</th>\n",
       "      <td>...</td>\n",
       "      <td>...</td>\n",
       "      <td>...</td>\n",
       "    </tr>\n",
       "    <tr>\n",
       "      <th>0</th>\n",
       "      <td>XING</td>\n",
       "      <td>ING</td>\n",
       "      <td>86</td>\n",
       "    </tr>\n",
       "    <tr>\n",
       "      <th>0</th>\n",
       "      <td>VIZIO</td>\n",
       "      <td>VERIZON</td>\n",
       "      <td>67</td>\n",
       "    </tr>\n",
       "    <tr>\n",
       "      <th>0</th>\n",
       "      <td>IDEMIA</td>\n",
       "      <td>NVIDIA</td>\n",
       "      <td>67</td>\n",
       "    </tr>\n",
       "    <tr>\n",
       "      <th>0</th>\n",
       "      <td>QUEST DIAGNOSTICS</td>\n",
       "      <td>NEXTERA ANALYTICS</td>\n",
       "      <td>53</td>\n",
       "    </tr>\n",
       "    <tr>\n",
       "      <th>0</th>\n",
       "      <td>TASKRABBIT</td>\n",
       "      <td>DATAROBOT</td>\n",
       "      <td>53</td>\n",
       "    </tr>\n",
       "  </tbody>\n",
       "</table>\n",
       "<p>1100 rows × 3 columns</p>\n",
       "</div>"
      ],
      "text/plain": [
       "              Company       ClosestMatch Score\n",
       "0              AMAZON              AMZON    91\n",
       "0           MICROSOFT             MICRON    67\n",
       "0              GOOGLE         GOOGLE LLC    75\n",
       "0            FACEBOOK            FACTSET    53\n",
       "0               APPLE             RIPPLE    73\n",
       "..                ...                ...   ...\n",
       "0                XING                ING    86\n",
       "0               VIZIO            VERIZON    67\n",
       "0              IDEMIA             NVIDIA    67\n",
       "0   QUEST DIAGNOSTICS  NEXTERA ANALYTICS    53\n",
       "0          TASKRABBIT          DATAROBOT    53\n",
       "\n",
       "[1100 rows x 3 columns]"
      ]
     },
     "execution_count": 298,
     "metadata": {},
     "output_type": "execute_result"
    }
   ],
   "source": [
    "df_companyClosestMatch # can't pick a threshold score based on observed values "
   ]
  },
  {
   "cell_type": "code",
   "execution_count": null,
   "id": "d33504b3",
   "metadata": {},
   "outputs": [],
   "source": [
    "# Try jacqquard distance to see if it yields better results \n",
    "# https://python.gotrained.com/nltk-edit-distance-jaccard-distance/ \n",
    "\n",
    "cols = [\"Company\", \"ClosestMatch\", \"Score\"]\n",
    "df_companyClosestMatch = pd.DataFrame(columns = cols)\n",
    "\n",
    "for company in company_names:\n",
    "    min_score = 100\n",
    "    closestMatch = None\n",
    "    #company_name = None \n",
    "    for val_to_compare in company_names:\n",
    "        if val_to_compare == company:\n",
    "            continue \n",
    "        else:\n",
    "            score = nltk.jaccard_distance(set(company), set(val_to_compare))\n",
    "            if score < min_score:\n",
    "                min_score = score \n",
    "                closestMatch = val_to_compare\n",
    "    df_companyClosestMatch = df_companyClosestMatch.append(pd.DataFrame({\"Company\": [company],\n",
    "                                                 \"ClosestMatch\": [closestMatch],\n",
    "                                                 \"Score\": [min_score]\n",
    "                                                   }))\n"
   ]
  },
  {
   "cell_type": "code",
   "execution_count": null,
   "id": "1012f606",
   "metadata": {},
   "outputs": [],
   "source": [
    "df_companyClosestMatch #no threshold score for which it makes sense to accept value"
   ]
  },
  {
   "cell_type": "code",
   "execution_count": null,
   "id": "62de521d",
   "metadata": {},
   "outputs": [],
   "source": [
    "df.drop(columns = ['company_clean'], inplace = True)"
   ]
  },
  {
   "cell_type": "markdown",
   "id": "44e8d40d",
   "metadata": {},
   "source": [
    "## Other details"
   ]
  },
  {
   "cell_type": "code",
   "execution_count": null,
   "id": "8fde2292",
   "metadata": {},
   "outputs": [],
   "source": [
    "df['otherdetails'].dropna()"
   ]
  },
  {
   "cell_type": "code",
   "execution_count": null,
   "id": "9a9a2c7e",
   "metadata": {},
   "outputs": [],
   "source": [
    "#use word cloud to identify frequently occuring words \n",
    "my_additional_stop_words = ['Year', 'Tons', 'access']\n",
    "\n",
    "stop_words = list(STOPWORDS) + my_additional_stop_words\n",
    "\n",
    "wordcloud = WordCloud(stopwords = stop_words, background_color = 'white').generate(str(df['otherdetails'].dropna()))\n",
    "\n",
    "print(wordcloud)\n",
    "plt.rcParams['figure.figsize'] = (12, 12)\n",
    "plt.axis('off')\n",
    "plt.imshow(wordcloud)\n",
    "plt.title('Most Occuring word in the Other Details', fontsize = 20)\n",
    "plt.show()"
   ]
  },
  {
   "cell_type": "code",
   "execution_count": null,
   "id": "b2aecd5d",
   "metadata": {},
   "outputs": [],
   "source": [
    "df.drop(columns = ['otherdetails'], inplace = True)"
   ]
  },
  {
   "cell_type": "markdown",
   "id": "68888e4f",
   "metadata": {},
   "source": [
    "## Yearly compensation"
   ]
  },
  {
   "cell_type": "code",
   "execution_count": null,
   "id": "40fd8379-2a2d-41f6-a2b1-a256ed91860b",
   "metadata": {},
   "outputs": [],
   "source": [
    "#data validation to see if all columns should be retained? \n",
    "salary_cols = [ 'totalyearlycompensation', 'basesalary',\n",
    " 'stockgrantvalue',\n",
    " 'bonus']\n",
    "t = df[salary_cols].copy()#.info()\n",
    "t['total'] = t['basesalary'] + t['stockgrantvalue'] + t['bonus']\n",
    "t.loc[t.total != t.totalyearlycompensation].head()"
   ]
  },
  {
   "cell_type": "code",
   "execution_count": null,
   "id": "c68ffac8-e0d5-45ca-bb27-fe0f362ad84b",
   "metadata": {},
   "outputs": [],
   "source": [
    "t['diff_perc'] = round(((t['totalyearlycompensation']-t['total'])/t['totalyearlycompensation'])*100)\n",
    "t[['totalyearlycompensation', 'total', 'diff_perc' ]]"
   ]
  },
  {
   "cell_type": "code",
   "execution_count": null,
   "id": "438a2e41-3685-4a83-891d-39ef1497e7f8",
   "metadata": {},
   "outputs": [],
   "source": [
    "def group_data(x):\n",
    "    val = abs(x)\n",
    "    if x <= 5: return \"0-5\"\n",
    "    elif x<= 10: return \"06-10\"\n",
    "    elif x<= 20: return \"11-20\"\n",
    "    elif x<=40: return \"21-40\"\n",
    "    elif x<=60: return \"41-60\"\n",
    "    elif x<=80: return \"61-80\"\n",
    "    else: return \">81\"\n",
    "    \n",
    "t[\"perc_group\"] = t[\"diff_perc\"].apply(group_data)\n",
    "t.groupby(['perc_group']).count() #use totalyearlycom? "
   ]
  },
  {
   "cell_type": "code",
   "execution_count": null,
   "id": "9dac0059-8493-4eab-beb8-abb813894967",
   "metadata": {},
   "outputs": [],
   "source": [
    "t.loc[(t.diff_perc == 100) & (t.total != 0)] #breakdown not provided for all records "
   ]
  },
  {
   "cell_type": "code",
   "execution_count": null,
   "id": "7107521e",
   "metadata": {},
   "outputs": [],
   "source": [
    "df.drop(columns = ['basesalary','stockgrantvalue', 'bonus'], inplace = True)"
   ]
  },
  {
   "cell_type": "markdown",
   "id": "0e866490-b180-47a3-8d23-df7c41e34f1a",
   "metadata": {},
   "source": [
    "## Clean tags"
   ]
  },
  {
   "cell_type": "code",
   "execution_count": null,
   "id": "95609920-5fd9-4462-9e08-38b28556effc",
   "metadata": {},
   "outputs": [],
   "source": [
    "#find tag values that need to be mapped to current list\n",
    "current_tag_list = ['iOS', 'Android', 'Mobile (iOS + Android)', 'Web Development (Front-End)', 'ML / AI', 'Distributed Systems (Back-End)', 'API Development (Back-End)', 'Full Stack',\n",
    "'Networking', 'Testing (SDET)', 'Data', 'Production', 'Security', 'DevOps', 'Site Reliability (SRE)', 'Blockchain', 'Other']\n",
    "t = df.groupby(['tag']).count().sort_values(by=['timestamp'], ascending = False).rename(columns={'timestamp':'count_'}).reset_index()#data clean up \n",
    "s = t[['tag', 'count_']].loc[t.count_>100]\n",
    "values_to_map = set(s.tag.unique()) - set(current_tag_list)\n",
    "list(values_to_map)"
   ]
  },
  {
   "cell_type": "code",
   "execution_count": null,
   "id": "ef0dd0f1-1836-46e4-9859-bbde09fcc893",
   "metadata": {},
   "outputs": [],
   "source": [
    "#set up mapping \n",
    "mapping_dict = {'Analytics': \"Data\", \n",
    "                'Operations': \"DevOps\",\n",
    "                'Embedded Systems': \"Full Stack\",\n",
    "                'Validation': \"Testing (SDET)\",\n",
    "                'Verification': \"Testing (SDET)\",\n",
    "                'Analog': \"Testing (SDET)\", \n",
    "                'User Experience (UX)': \"Web Development (Front-End)\", \n",
    "                'Infrastructure': \"Distributed Systems (Back-End)\", \n",
    "                'Sales': \"Other\",\n",
    "                'Hardware': \"Full Stack\",\n",
    "                'Growth': \"Other\",\n",
    "                'ASIC Design': \"Web Development (Front-End)\",\n",
    "                'Enterprise': \"Other\",\n",
    "                'Product': \"Distributed Systems (Back-End)\",\n",
    "                'Technical': \"DevOps\",\n",
    "                'SoC Design': \"Web Development (Front-End)\", \n",
    "                'Design': \"Web Development (Front-End)\",\n",
    "                'Consumer': \"Other\",\n",
    "                'General': \"Other\",\n",
    "                'Cloud': \"DevOps\",\n",
    "                'Embedded' : \"Full Stack\", \n",
    "                'Analytic': \"Data\"}\n",
    "\n",
    "df['tag_clean'] = df['tag'].map(mapping_dict)\n",
    "df[df.tag_clean.isin(current_tag_list)].head()"
   ]
  },
  {
   "cell_type": "code",
   "execution_count": null,
   "id": "1a4c81a9-1ca4-4539-8ad7-0f087489bc12",
   "metadata": {},
   "outputs": [],
   "source": [
    "df['tag_clean_2'] = np.nan\n",
    "df['tag_clean_2'] = df.tag_clean_2.fillna(df.tag_clean).fillna(df.tag)\n",
    "df.head()"
   ]
  },
  {
   "cell_type": "code",
   "execution_count": null,
   "id": "edc15112-b3e8-40d1-ae80-fbcc62919507",
   "metadata": {},
   "outputs": [],
   "source": [
    "df.drop(columns = ['tag','tag_clean'], inplace = True)"
   ]
  },
  {
   "cell_type": "markdown",
   "id": "3b410fa6",
   "metadata": {},
   "source": [
    "## Impute Gender"
   ]
  },
  {
   "cell_type": "code",
   "execution_count": null,
   "id": "97638e4c",
   "metadata": {},
   "outputs": [],
   "source": [
    "#set up salary groups\n",
    "def group_data(x):\n",
    "    val = abs(x)\n",
    "    if x <= 50000: return \"a. <50k\"\n",
    "    elif x<= 100000: return \"b. 50-100k\"\n",
    "    elif x<= 150000: return \"c. 100-150k\"\n",
    "    elif x<=200000: return \"d. 150-200k\"\n",
    "    elif x<=250000: return \"e. 200-250k\"\n",
    "    elif x<=300000: return \"f. 250-300k\"\n",
    "    elif x<=350000: return \"g. 300-350k\"\n",
    "    elif x<=400000: return \"h. 350-400k\"\n",
    "    elif x<=450000: return \"i. 400-450k\"\n",
    "    elif x<=500000: return \"j. 450-500k\"\n",
    "    elif x<=1000000: return \"k. 500k-1m\"\n",
    "    else: return \"l. >1m\"\n",
    "    \n",
    "df['salarygroup'] = df['totalyearlycompensation'].apply(group_data)"
   ]
  },
  {
   "cell_type": "code",
   "execution_count": null,
   "id": "d4ca6f7f",
   "metadata": {},
   "outputs": [],
   "source": [
    "t = df.groupby(['salarygroup']).count().rename(columns={'title':'count'}).reset_index()#data clean up \n",
    "sns.set(rc={'figure.figsize':(15,5)})\n",
    "ax = sns.barplot(x=\"salarygroup\", y=\"count\", data=t)\n",
    "ax.tick_params(axis='x', rotation=90)"
   ]
  },
  {
   "cell_type": "code",
   "execution_count": null,
   "id": "6b5af9d4",
   "metadata": {},
   "outputs": [],
   "source": [
    "#find number of reportings for each salary group \n",
    "s = df[['salarygroup','gender', 'title']].dropna()\n",
    "s.rename(columns = {'title':'count'}, inplace = True)\n",
    "p = ['Male','Female','Other']\n",
    "s = s[s.gender.isin(p)]\n",
    "s = s.groupby(['salarygroup','gender']).count().rename({'title':'count_'})#.reset_index()#.groupby('salarygroup').sum()\n",
    "s['gender'] = s.index.get_level_values(1)\n",
    "s.droplevel(level=-1)\n",
    "s = s.unstack()['count']\n",
    "s.head()"
   ]
  },
  {
   "cell_type": "code",
   "execution_count": null,
   "id": "4bdb71c0",
   "metadata": {},
   "outputs": [],
   "source": [
    "#find ratio of breakdown by salary group \n",
    "s[\"sum\"] = s.sum(axis=1)\n",
    "s['F_ratio'] = 100*(s['Female']/s['sum'])\n",
    "s['M_ratio'] = 100*(s['Male']/s['sum'])\n",
    "s['O_ratio'] = 100*(s['Other']/s['sum'])\n",
    "s = s.fillna(0)\n",
    "s = s[['F_ratio', 'M_ratio', 'O_ratio']]\n",
    "df = df.copy()\n",
    "s.head()"
   ]
  },
  {
   "cell_type": "code",
   "execution_count": null,
   "id": "a0e5a8c7",
   "metadata": {},
   "outputs": [],
   "source": [
    "#shuffle records in the dataframe \n",
    "df = df.iloc[np.random.permutation(len(df))]"
   ]
  },
  {
   "cell_type": "code",
   "execution_count": null,
   "id": "d50db156",
   "metadata": {},
   "outputs": [],
   "source": [
    "#assign missing records a gender based on salary ratio \n",
    "df['imputed_gender'] = None \n",
    "\n",
    "\n",
    "def impute_gender(mapping_df, data):\n",
    "    \n",
    "    #for each salary range \n",
    "    for salary_range in mapping_df.index:\n",
    "        #print(salary_range)\n",
    "        f_ratio, m_ratio, o_ratio = mapping_df.loc[salary_range, :]\n",
    "        #print(f_ratio, m_ratio, o_ratio)\n",
    "        #print(len)\n",
    "        f_index = round(len(data.loc[data.salarygroup == salary_range])*(f_ratio/100))\n",
    "        m_index = f_index + round(len(data.loc[data.salarygroup == salary_range])*(m_ratio/100))\n",
    "        o_index = m_index + round(len(data.loc[data.salarygroup == salary_range])*(o_ratio/100))\n",
    "        #print(f_index, m_index, o_index)\n",
    "        count = 0 \n",
    "        for i, row in data.loc[data.salarygroup == salary_range].iterrows():                       \n",
    "           # print(row)\n",
    "            if count <= f_index:\n",
    "                data.at[i, 'imputed_gender'] = 'Female'\n",
    "            elif count < m_index:\n",
    "                data.at[i, 'imputed_gender'] = 'Male'\n",
    "            else:\n",
    "                data.at[i, 'imputed_gender'] = 'Other'\n",
    "            count += 1\n",
    "            \n",
    "    return data\n",
    "\n",
    "new_df = impute_gender(s, df.loc[(df.gender.isna()) | (~df.gender.isin(['Female', 'Male', 'Other']))][['salarygroup', 'imputed_gender']])     \n",
    "new_df.head() "
   ]
  },
  {
   "cell_type": "code",
   "execution_count": null,
   "id": "2ff63135",
   "metadata": {},
   "outputs": [],
   "source": [
    "#merge back with original dataframe \n",
    "df = pd.merge(df, new_df[['imputed_gender']], how = 'left', left_index=True, right_index=True).drop(columns = ['imputed_gender_x'])\n",
    "df['gender_2'] = None \n",
    "df['gender_2'] = df.gender_2.fillna(df.imputed_gender_y).fillna(df.gender)\n",
    "\n"
   ]
  },
  {
   "cell_type": "code",
   "execution_count": null,
   "id": "b35c2fca",
   "metadata": {},
   "outputs": [],
   "source": [
    "#clean dataframe \n",
    "df = df.drop(columns = ['imputed_gender_y', 'gender', 'timestamp'])\n",
    "df.rename(columns = {'tag_clean_2': 'tag', 'gender_2': 'gender'}, inplace = True)"
   ]
  },
  {
   "cell_type": "code",
   "execution_count": null,
   "id": "fd3fd67f",
   "metadata": {},
   "outputs": [],
   "source": [
    "df.columns"
   ]
  },
  {
   "cell_type": "code",
   "execution_count": null,
   "id": "8c029809",
   "metadata": {},
   "outputs": [],
   "source": [
    " df.to_csv('edu_classification.csv')"
   ]
  }
 ],
 "metadata": {
  "kernelspec": {
   "display_name": "Python 3",
   "language": "python",
   "name": "python3"
  },
  "language_info": {
   "codemirror_mode": {
    "name": "ipython",
    "version": 3
   },
   "file_extension": ".py",
   "mimetype": "text/x-python",
   "name": "python",
   "nbconvert_exporter": "python",
   "pygments_lexer": "ipython3",
   "version": "3.8.8"
  }
 },
 "nbformat": 4,
 "nbformat_minor": 5
}
