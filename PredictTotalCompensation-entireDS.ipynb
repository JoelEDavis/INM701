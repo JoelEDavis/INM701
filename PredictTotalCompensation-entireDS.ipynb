{
 "cells": [
  {
   "cell_type": "code",
   "execution_count": 1,
   "id": "b85e73b6",
   "metadata": {},
   "outputs": [],
   "source": [
    "import pandas as pd \n",
    "import numpy as np \n",
    "import os\n",
    "import math \n",
    "import matplotlib.pyplot as plt\n",
    "import seaborn as sns\n",
    "import time\n",
    "sns.set()\n",
    "\n",
    "from sklearn.model_selection import train_test_split\n",
    "from sklearn.linear_model import LinearRegression, SGDRegressor\n",
    "from sklearn.ensemble import RandomForestRegressor\n",
    "from sklearn.model_selection import cross_val_score\n",
    "\n",
    "from sklearn.model_selection import GridSearchCV\n",
    "from sklearn.model_selection import RepeatedStratifiedKFold\n",
    "\n"
   ]
  },
  {
   "cell_type": "code",
   "execution_count": 2,
   "id": "f4abee9b",
   "metadata": {},
   "outputs": [
    {
     "name": "stderr",
     "output_type": "stream",
     "text": [
      "C:\\Users\\adcm172\\Anaconda3\\lib\\site-packages\\IPython\\core\\interactiveshell.py:3444: DtypeWarning: Columns (4) have mixed types.Specify dtype option on import or set low_memory=False.\n",
      "  exec(code_obj, self.user_global_ns, self.user_ns)\n"
     ]
    },
    {
     "data": {
      "text/html": [
       "<div>\n",
       "<style scoped>\n",
       "    .dataframe tbody tr th:only-of-type {\n",
       "        vertical-align: middle;\n",
       "    }\n",
       "\n",
       "    .dataframe tbody tr th {\n",
       "        vertical-align: top;\n",
       "    }\n",
       "\n",
       "    .dataframe thead th {\n",
       "        text-align: right;\n",
       "    }\n",
       "</style>\n",
       "<table border=\"1\" class=\"dataframe\">\n",
       "  <thead>\n",
       "    <tr style=\"text-align: right;\">\n",
       "      <th></th>\n",
       "      <th>title</th>\n",
       "      <th>totalyearlycompensation</th>\n",
       "      <th>yearsofexperience</th>\n",
       "      <th>Education</th>\n",
       "      <th>tag</th>\n",
       "      <th>gender</th>\n",
       "      <th>title_Business Analyst</th>\n",
       "      <th>title_Data Scientist</th>\n",
       "      <th>title_Hardware Engineer</th>\n",
       "      <th>title_Human Resources</th>\n",
       "      <th>...</th>\n",
       "      <th>tag_iOS</th>\n",
       "      <th>gender_Female</th>\n",
       "      <th>gender_Male</th>\n",
       "      <th>gender_Other</th>\n",
       "      <th>tcomp_scaled</th>\n",
       "      <th>yexp_scaled</th>\n",
       "      <th>edu_encoded</th>\n",
       "      <th>row_type</th>\n",
       "      <th>edu_imputed</th>\n",
       "      <th>final_edu_val</th>\n",
       "    </tr>\n",
       "  </thead>\n",
       "  <tbody>\n",
       "    <tr>\n",
       "      <th>0</th>\n",
       "      <td>Software Engineer</td>\n",
       "      <td>78000</td>\n",
       "      <td>4.0</td>\n",
       "      <td>Bachelor's Degree</td>\n",
       "      <td>Full Stack</td>\n",
       "      <td>Male</td>\n",
       "      <td>0.0</td>\n",
       "      <td>0.0</td>\n",
       "      <td>0.0</td>\n",
       "      <td>0.0</td>\n",
       "      <td>...</td>\n",
       "      <td>0.0</td>\n",
       "      <td>0.0</td>\n",
       "      <td>1.0</td>\n",
       "      <td>0.0</td>\n",
       "      <td>-0.994331</td>\n",
       "      <td>0.095238</td>\n",
       "      <td>3.0</td>\n",
       "      <td>train</td>\n",
       "      <td>NaN</td>\n",
       "      <td>3.0</td>\n",
       "    </tr>\n",
       "    <tr>\n",
       "      <th>1</th>\n",
       "      <td>Software Engineer</td>\n",
       "      <td>42000</td>\n",
       "      <td>10.0</td>\n",
       "      <td>Master's Degree</td>\n",
       "      <td>Web Development (Front-End)</td>\n",
       "      <td>Male</td>\n",
       "      <td>0.0</td>\n",
       "      <td>0.0</td>\n",
       "      <td>0.0</td>\n",
       "      <td>0.0</td>\n",
       "      <td>...</td>\n",
       "      <td>0.0</td>\n",
       "      <td>0.0</td>\n",
       "      <td>1.0</td>\n",
       "      <td>0.0</td>\n",
       "      <td>-1.250724</td>\n",
       "      <td>0.238095</td>\n",
       "      <td>4.0</td>\n",
       "      <td>train</td>\n",
       "      <td>NaN</td>\n",
       "      <td>4.0</td>\n",
       "    </tr>\n",
       "    <tr>\n",
       "      <th>2</th>\n",
       "      <td>Software Engineering Manager</td>\n",
       "      <td>458000</td>\n",
       "      <td>15.0</td>\n",
       "      <td>Master's Degree</td>\n",
       "      <td>Site Reliability (SRE)</td>\n",
       "      <td>Female</td>\n",
       "      <td>0.0</td>\n",
       "      <td>0.0</td>\n",
       "      <td>0.0</td>\n",
       "      <td>0.0</td>\n",
       "      <td>...</td>\n",
       "      <td>0.0</td>\n",
       "      <td>1.0</td>\n",
       "      <td>0.0</td>\n",
       "      <td>0.0</td>\n",
       "      <td>1.712039</td>\n",
       "      <td>0.357143</td>\n",
       "      <td>4.0</td>\n",
       "      <td>train</td>\n",
       "      <td>NaN</td>\n",
       "      <td>4.0</td>\n",
       "    </tr>\n",
       "    <tr>\n",
       "      <th>3</th>\n",
       "      <td>Software Engineer</td>\n",
       "      <td>163000</td>\n",
       "      <td>10.0</td>\n",
       "      <td>Master's Degree</td>\n",
       "      <td>Distributed Systems (Back-End)</td>\n",
       "      <td>Male</td>\n",
       "      <td>0.0</td>\n",
       "      <td>0.0</td>\n",
       "      <td>0.0</td>\n",
       "      <td>0.0</td>\n",
       "      <td>...</td>\n",
       "      <td>0.0</td>\n",
       "      <td>0.0</td>\n",
       "      <td>1.0</td>\n",
       "      <td>0.0</td>\n",
       "      <td>-0.388958</td>\n",
       "      <td>0.238095</td>\n",
       "      <td>4.0</td>\n",
       "      <td>train</td>\n",
       "      <td>NaN</td>\n",
       "      <td>4.0</td>\n",
       "    </tr>\n",
       "    <tr>\n",
       "      <th>4</th>\n",
       "      <td>Software Engineer</td>\n",
       "      <td>120000</td>\n",
       "      <td>6.0</td>\n",
       "      <td>Master's Degree</td>\n",
       "      <td>API Development (Back-End)</td>\n",
       "      <td>Female</td>\n",
       "      <td>0.0</td>\n",
       "      <td>0.0</td>\n",
       "      <td>0.0</td>\n",
       "      <td>0.0</td>\n",
       "      <td>...</td>\n",
       "      <td>0.0</td>\n",
       "      <td>1.0</td>\n",
       "      <td>0.0</td>\n",
       "      <td>0.0</td>\n",
       "      <td>-0.695206</td>\n",
       "      <td>0.142857</td>\n",
       "      <td>4.0</td>\n",
       "      <td>train</td>\n",
       "      <td>NaN</td>\n",
       "      <td>4.0</td>\n",
       "    </tr>\n",
       "  </tbody>\n",
       "</table>\n",
       "<p>5 rows × 46 columns</p>\n",
       "</div>"
      ],
      "text/plain": [
       "                          title  totalyearlycompensation  yearsofexperience  \\\n",
       "0             Software Engineer                    78000                4.0   \n",
       "1             Software Engineer                    42000               10.0   \n",
       "2  Software Engineering Manager                   458000               15.0   \n",
       "3             Software Engineer                   163000               10.0   \n",
       "4             Software Engineer                   120000                6.0   \n",
       "\n",
       "           Education                             tag  gender  \\\n",
       "0  Bachelor's Degree                      Full Stack    Male   \n",
       "1    Master's Degree     Web Development (Front-End)    Male   \n",
       "2    Master's Degree          Site Reliability (SRE)  Female   \n",
       "3    Master's Degree  Distributed Systems (Back-End)    Male   \n",
       "4    Master's Degree      API Development (Back-End)  Female   \n",
       "\n",
       "   title_Business Analyst  title_Data Scientist  title_Hardware Engineer  \\\n",
       "0                     0.0                   0.0                      0.0   \n",
       "1                     0.0                   0.0                      0.0   \n",
       "2                     0.0                   0.0                      0.0   \n",
       "3                     0.0                   0.0                      0.0   \n",
       "4                     0.0                   0.0                      0.0   \n",
       "\n",
       "   title_Human Resources  ...  tag_iOS  gender_Female  gender_Male  \\\n",
       "0                    0.0  ...      0.0            0.0          1.0   \n",
       "1                    0.0  ...      0.0            0.0          1.0   \n",
       "2                    0.0  ...      0.0            1.0          0.0   \n",
       "3                    0.0  ...      0.0            0.0          1.0   \n",
       "4                    0.0  ...      0.0            1.0          0.0   \n",
       "\n",
       "   gender_Other  tcomp_scaled  yexp_scaled  edu_encoded  row_type  \\\n",
       "0           0.0     -0.994331     0.095238          3.0     train   \n",
       "1           0.0     -1.250724     0.238095          4.0     train   \n",
       "2           0.0      1.712039     0.357143          4.0     train   \n",
       "3           0.0     -0.388958     0.238095          4.0     train   \n",
       "4           0.0     -0.695206     0.142857          4.0     train   \n",
       "\n",
       "   edu_imputed  final_edu_val  \n",
       "0          NaN            3.0  \n",
       "1          NaN            4.0  \n",
       "2          NaN            4.0  \n",
       "3          NaN            4.0  \n",
       "4          NaN            4.0  \n",
       "\n",
       "[5 rows x 46 columns]"
      ]
     },
     "execution_count": 2,
     "metadata": {},
     "output_type": "execute_result"
    }
   ],
   "source": [
    "path = \".\"\n",
    "fname = os.path.join(path, \"edu_imputed.csv\")\n",
    "df = pd.read_csv(fname)\n",
    "df = df.drop(columns = 'Unnamed: 0')\n",
    "df.head()"
   ]
  },
  {
   "cell_type": "code",
   "execution_count": 5,
   "id": "ba41828b",
   "metadata": {},
   "outputs": [
    {
     "data": {
      "text/plain": [
       "53753"
      ]
     },
     "execution_count": 5,
     "metadata": {},
     "output_type": "execute_result"
    }
   ],
   "source": [
    "#df = df[df.totalyearlycompensation < 1000000]\n",
    "#df.count().max()"
   ]
  },
  {
   "cell_type": "code",
   "execution_count": 6,
   "id": "1d5bd6a9",
   "metadata": {},
   "outputs": [],
   "source": [
    "#features_500dp = df[features].sum() < 500\n",
    "#features_ = features_500dp[features_500dp == True].index\n",
    "#features_"
   ]
  },
  {
   "cell_type": "code",
   "execution_count": 7,
   "id": "05b59d18",
   "metadata": {},
   "outputs": [
    {
     "data": {
      "text/plain": [
       "52027"
      ]
     },
     "execution_count": 7,
     "metadata": {},
     "output_type": "execute_result"
    }
   ],
   "source": [
    "#df = df[df['title'].isin(['Human Resources', 'Management Consultant', 'Marketing', 'Mechanical Engineer', 'Recruiter', 'Sales'])==False]\n",
    "#df.count().max()"
   ]
  },
  {
   "cell_type": "code",
   "execution_count": 8,
   "id": "94da5126",
   "metadata": {},
   "outputs": [
    {
     "data": {
      "text/plain": [
       "51546"
      ]
     },
     "execution_count": 8,
     "metadata": {},
     "output_type": "execute_result"
    }
   ],
   "source": [
    "#df = df[df['gender'].isin(['Other'])==False]\n",
    "#df.count().max()"
   ]
  },
  {
   "cell_type": "code",
   "execution_count": 3,
   "id": "4eab889b",
   "metadata": {},
   "outputs": [
    {
     "data": {
      "text/plain": [
       "Index(['title', 'totalyearlycompensation', 'yearsofexperience', 'Education',\n",
       "       'tag', 'gender', 'title_Business Analyst', 'title_Data Scientist',\n",
       "       'title_Hardware Engineer', 'title_Human Resources',\n",
       "       'title_Management Consultant', 'title_Marketing',\n",
       "       'title_Mechanical Engineer', 'title_Product Designer',\n",
       "       'title_Product Manager', 'title_Recruiter', 'title_Sales',\n",
       "       'title_Software Engineer', 'title_Software Engineering Manager',\n",
       "       'title_Solution Architect', 'title_Technical Program Manager',\n",
       "       'tag_API Development (Back-End)', 'tag_Android', 'tag_Data',\n",
       "       'tag_DevOps', 'tag_Distributed Systems (Back-End)', 'tag_Full Stack',\n",
       "       'tag_ML / AI', 'tag_Mobile (iOS + Android)', 'tag_Networking',\n",
       "       'tag_Other', 'tag_Production', 'tag_Security',\n",
       "       'tag_Site Reliability (SRE)', 'tag_Testing (SDET)',\n",
       "       'tag_Web Development (Front-End)', 'tag_iOS', 'gender_Female',\n",
       "       'gender_Male', 'gender_Other', 'tcomp_scaled', 'yexp_scaled',\n",
       "       'edu_encoded', 'row_type', 'edu_imputed', 'final_edu_val'],\n",
       "      dtype='object')"
      ]
     },
     "execution_count": 3,
     "metadata": {},
     "output_type": "execute_result"
    }
   ],
   "source": [
    "df.columns"
   ]
  },
  {
   "cell_type": "code",
   "execution_count": 4,
   "id": "543e1bdb",
   "metadata": {},
   "outputs": [],
   "source": [
    "features = ['title_Business Analyst', 'title_Data Scientist',\n",
    "       'title_Hardware Engineer', 'title_Human Resources',\n",
    "       'title_Management Consultant', 'title_Marketing',\n",
    "       'title_Mechanical Engineer', 'title_Product Designer',\n",
    "       'title_Product Manager', 'title_Recruiter', 'title_Sales',\n",
    "       'title_Software Engineer', 'title_Software Engineering Manager',\n",
    "       'title_Solution Architect', 'title_Technical Program Manager',\n",
    "       'tag_API Development (Back-End)', 'tag_Android', 'tag_Data',\n",
    "       'tag_DevOps', 'tag_Distributed Systems (Back-End)', 'tag_Full Stack',\n",
    "       'tag_ML / AI', 'tag_Mobile (iOS + Android)', 'tag_Networking',\n",
    "       'tag_Other', 'tag_Production', 'tag_Security',\n",
    "       'tag_Site Reliability (SRE)', 'tag_Testing (SDET)',\n",
    "       'tag_Web Development (Front-End)', 'tag_iOS', 'gender_Female',\n",
    "       'gender_Male', 'gender_Other', 'yexp_scaled', 'final_edu_val']\n",
    "#features = list(set(features) - set(features_))\n",
    "target = 'totalyearlycompensation'\n",
    "\n",
    "y = df[target]\n",
    "X = df[features].values"
   ]
  },
  {
   "cell_type": "code",
   "execution_count": 5,
   "id": "77cdce40",
   "metadata": {},
   "outputs": [],
   "source": [
    "#can't use PCA for non-continuous variable "
   ]
  },
  {
   "cell_type": "code",
   "execution_count": 6,
   "id": "8e06d466",
   "metadata": {},
   "outputs": [],
   "source": [
    "np.random.seed(1023)\n",
    "X_train, X_test, y_train, y_test = train_test_split(X, y, test_size=0.2, random_state=0)"
   ]
  },
  {
   "cell_type": "code",
   "execution_count": 7,
   "id": "6cd327cd",
   "metadata": {},
   "outputs": [
    {
     "name": "stdout",
     "output_type": "stream",
     "text": [
      "(43088, 36) (10772, 36) (43088,) (10772,)\n"
     ]
    }
   ],
   "source": [
    "print(X_train.shape, X_test.shape, y_train.shape, y_test.shape)"
   ]
  },
  {
   "cell_type": "code",
   "execution_count": 8,
   "id": "6aa2bf9c",
   "metadata": {},
   "outputs": [],
   "source": [
    "from sklearn.ensemble import GradientBoostingRegressor\n",
    "from sklearn.svm import SVR\n"
   ]
  },
  {
   "cell_type": "code",
   "execution_count": 9,
   "id": "dc8c283a",
   "metadata": {},
   "outputs": [],
   "source": [
    "classifiers = [\n",
    "    LinearRegression(),\n",
    "    SGDRegressor(max_iter=1000),\n",
    "    RandomForestRegressor(),\n",
    "    GradientBoostingRegressor(random_state=0)\n",
    "    #,SVR()\n",
    "    \n",
    "]\n",
    "classifier_names = [\n",
    "    'Linear Regression Regression' ,\n",
    "    'SDG Regressor',\n",
    "    'Random Forest Regressor', \n",
    "    'Gradient Boosted Regressor' \n",
    "    #,'Support Vector Machine'\n",
    "    \n",
    "\n",
    "]"
   ]
  },
  {
   "cell_type": "code",
   "execution_count": 10,
   "id": "db3459d2",
   "metadata": {},
   "outputs": [
    {
     "name": "stdout",
     "output_type": "stream",
     "text": [
      "Linear Regression Regression  mean accuracy:  26.585 % std:  0.33 % training time:  0.38 s\n",
      "SDG Regressor  mean accuracy:  26.283 % std:  0.302 % training time:  1.08 s\n",
      "Random Forest Regressor  mean accuracy:  19.372 % std:  2.231 % training time:  40.43 s\n",
      "Gradient Boosted Regressor  mean accuracy:  28.09 % std:  0.895 % training time:  19.91 s\n"
     ]
    }
   ],
   "source": [
    "for clf, clf_name in zip(classifiers, classifier_names):\n",
    "    time_start = time.time()\n",
    "    cv_scores = cross_val_score(clf, X, np.ravel(y), cv=5)\n",
    "    print(clf_name, ' mean accuracy: ',\n",
    "          round(cv_scores.mean()*100, 3), \n",
    "          '% std: ', round(cv_scores.var()*100, 3),'%',\n",
    "          'training time: ', round(time.time() - time_start, 2), 's'\n",
    "         )"
   ]
  },
  {
   "cell_type": "code",
   "execution_count": 11,
   "id": "0eb25616",
   "metadata": {
    "scrolled": true
   },
   "outputs": [
    {
     "name": "stderr",
     "output_type": "stream",
     "text": [
      "C:\\Users\\adcm172\\Anaconda3\\lib\\site-packages\\sklearn\\model_selection\\_split.py:666: UserWarning: The least populated class in y has only 1 members, which is less than n_splits=5.\n",
      "  warnings.warn((\"The least populated class in y has only %d\"\n",
      "C:\\Users\\adcm172\\Anaconda3\\lib\\site-packages\\sklearn\\model_selection\\_split.py:666: UserWarning: The least populated class in y has only 1 members, which is less than n_splits=5.\n",
      "  warnings.warn((\"The least populated class in y has only %d\"\n",
      "C:\\Users\\adcm172\\Anaconda3\\lib\\site-packages\\sklearn\\model_selection\\_split.py:666: UserWarning: The least populated class in y has only 1 members, which is less than n_splits=5.\n",
      "  warnings.warn((\"The least populated class in y has only %d\"\n"
     ]
    },
    {
     "name": "stdout",
     "output_type": "stream",
     "text": [
      "Best: 0.314537 using {'learning_rate': 0.1, 'max_depth': 8, 'min_samples_leaf': 100, 'min_samples_split': 10, 'random_state': 23, 'subsample': 0.8}\n",
      "0.314537 (0.013259) with: {'learning_rate': 0.1, 'max_depth': 8, 'min_samples_leaf': 100, 'min_samples_split': 10, 'random_state': 23, 'subsample': 0.8}\n",
      "0.314537 (0.013259) with: {'learning_rate': 0.1, 'max_depth': 8, 'min_samples_leaf': 100, 'min_samples_split': 20, 'random_state': 23, 'subsample': 0.8}\n",
      "0.314537 (0.013259) with: {'learning_rate': 0.1, 'max_depth': 8, 'min_samples_leaf': 100, 'min_samples_split': 30, 'random_state': 23, 'subsample': 0.8}\n",
      "0.312220 (0.013458) with: {'learning_rate': 0.1, 'max_depth': 8, 'min_samples_leaf': 300, 'min_samples_split': 10, 'random_state': 23, 'subsample': 0.8}\n",
      "0.312220 (0.013458) with: {'learning_rate': 0.1, 'max_depth': 8, 'min_samples_leaf': 300, 'min_samples_split': 20, 'random_state': 23, 'subsample': 0.8}\n",
      "0.312220 (0.013458) with: {'learning_rate': 0.1, 'max_depth': 8, 'min_samples_leaf': 300, 'min_samples_split': 30, 'random_state': 23, 'subsample': 0.8}\n",
      "0.306950 (0.013886) with: {'learning_rate': 0.1, 'max_depth': 8, 'min_samples_leaf': 500, 'min_samples_split': 10, 'random_state': 23, 'subsample': 0.8}\n",
      "0.306950 (0.013886) with: {'learning_rate': 0.1, 'max_depth': 8, 'min_samples_leaf': 500, 'min_samples_split': 20, 'random_state': 23, 'subsample': 0.8}\n",
      "0.306950 (0.013886) with: {'learning_rate': 0.1, 'max_depth': 8, 'min_samples_leaf': 500, 'min_samples_split': 30, 'random_state': 23, 'subsample': 0.8}\n",
      "0.313619 (0.013483) with: {'learning_rate': 0.1, 'max_depth': 10, 'min_samples_leaf': 100, 'min_samples_split': 10, 'random_state': 23, 'subsample': 0.8}\n",
      "0.313619 (0.013483) with: {'learning_rate': 0.1, 'max_depth': 10, 'min_samples_leaf': 100, 'min_samples_split': 20, 'random_state': 23, 'subsample': 0.8}\n",
      "0.313619 (0.013483) with: {'learning_rate': 0.1, 'max_depth': 10, 'min_samples_leaf': 100, 'min_samples_split': 30, 'random_state': 23, 'subsample': 0.8}\n",
      "0.312407 (0.013282) with: {'learning_rate': 0.1, 'max_depth': 10, 'min_samples_leaf': 300, 'min_samples_split': 10, 'random_state': 23, 'subsample': 0.8}\n",
      "0.312407 (0.013282) with: {'learning_rate': 0.1, 'max_depth': 10, 'min_samples_leaf': 300, 'min_samples_split': 20, 'random_state': 23, 'subsample': 0.8}\n",
      "0.312407 (0.013282) with: {'learning_rate': 0.1, 'max_depth': 10, 'min_samples_leaf': 300, 'min_samples_split': 30, 'random_state': 23, 'subsample': 0.8}\n",
      "0.307186 (0.013965) with: {'learning_rate': 0.1, 'max_depth': 10, 'min_samples_leaf': 500, 'min_samples_split': 10, 'random_state': 23, 'subsample': 0.8}\n",
      "0.307186 (0.013965) with: {'learning_rate': 0.1, 'max_depth': 10, 'min_samples_leaf': 500, 'min_samples_split': 20, 'random_state': 23, 'subsample': 0.8}\n",
      "0.307186 (0.013965) with: {'learning_rate': 0.1, 'max_depth': 10, 'min_samples_leaf': 500, 'min_samples_split': 30, 'random_state': 23, 'subsample': 0.8}\n",
      "time taken:  2167.856124162674 s\n"
     ]
    }
   ],
   "source": [
    "\n",
    "#use hyper parameter tuning for Gradient Boosted Regressor\n",
    "time_start = time.time()\n",
    "model = GradientBoostingRegressor()\n",
    "\n",
    "#https://www.analyticsvidhya.com/blog/2016/02/complete-guide-parameter-tuning-gradient-boosting-gbm-python/\n",
    "\n",
    "grid={'min_samples_split': [10,20,30], #Defines the minimum number of samples which are required in a node to be considered for splitting\n",
    "      'min_samples_leaf':[100,300,500], #Defines the minimum samples (or observations) required in a terminal node or leaf\n",
    "      'max_depth':[8,10], #The maximum depth of a tree\n",
    "      'learning_rate':[.1], # controls the magnitude of this change in the estimates\n",
    "      'subsample':[.8],\n",
    "      'random_state':[23]}\n",
    "cv = RepeatedStratifiedKFold(n_splits=5, n_repeats=3, random_state=1)\n",
    "grid_search=GridSearchCV(estimator=model,param_grid=grid,n_jobs=1,cv=cv)\n",
    "grid_result = grid_search.fit(X, y)\n",
    "\n",
    "\n",
    "# summarize results\n",
    "print(\"Best: %f using %s\" % (grid_result.best_score_, grid_result.best_params_))\n",
    "means = grid_result.cv_results_['mean_test_score']\n",
    "stds = grid_result.cv_results_['std_test_score']\n",
    "params = grid_result.cv_results_['params']\n",
    "for mean, stdev, param in zip(means, stds, params):\n",
    "    print(\"%f (%f) with: %r\" % (mean, stdev, param))\n",
    "print('time taken: ', time.time()-time_start, 's')\n"
   ]
  },
  {
   "cell_type": "markdown",
   "id": "e57e563e",
   "metadata": {},
   "source": [
    "Best: 0.314537 using {'learning_rate': 0.1, 'max_depth': 8, 'min_samples_leaf': 100, 'min_samples_split': 10, 'random_state': 23, 'subsample': 0.8}"
   ]
  },
  {
   "cell_type": "code",
   "execution_count": 17,
   "id": "20a0685b",
   "metadata": {},
   "outputs": [],
   "source": [
    "## Gradient Boosted Regressor"
   ]
  },
  {
   "cell_type": "code",
   "execution_count": 13,
   "id": "419862f6",
   "metadata": {},
   "outputs": [],
   "source": [
    "from sklearn.metrics import mean_absolute_error\n",
    "from sklearn.metrics import r2_score\n",
    "\n",
    "\n",
    "def display_results(y_pred, y_test):\n",
    "    print(\"Predicted 1-5:\", np.array([round(y_pred[x][0]) for x in range(0,len(y_pred))][0:10]))\n",
    "    print(\"Actual 1-5:\", y_test[0:10].values)\n",
    "    print(\"Difference: \", np.array([round(y_pred[x][0]) for x in range(0,len(y_pred))][0:10]) - np.array(y_test[0:10].values))\n",
    "    #count number of correct predictions\n",
    "    print('RMSE: ', np.sqrt(mean_absolute_error(y_test, y_pred)))\n",
    "    print('R-squared: ', r2_score(y_test, y_pred) )\n",
    "    #y_diff = y_pred - y_test \n",
    "    #temp = [y_diff[x][0] for x in range(0, len(y_diff))]\n",
    "    #correct = temp.count(0.0)\n",
    "    #print(\"Number of correct predictions: \", correct)\n",
    "    #print(\"Accuracy: {} % \".format(round((correct/len(temp))*100, 2)))"
   ]
  },
  {
   "cell_type": "code",
   "execution_count": 14,
   "id": "15b5f54d",
   "metadata": {},
   "outputs": [
    {
     "name": "stdout",
     "output_type": "stream",
     "text": [
      "time taken:  6.871137380599976 s\n",
      "Predicted 1-5: [226882 230524 429566 139696 204170 226634 213542 189320 162491 200684]\n",
      "Actual 1-5: [181000 240000 600000  40000 230000 330000 280000 189000 127000 271000]\n",
      "Difference:  [  45882   -9476 -170434   99696  -25830 -103366  -66458     320   35491\n",
      "  -70316]\n",
      "RMSE:  272.32159507583384\n",
      "R-squared:  0.34017585156212704\n"
     ]
    }
   ],
   "source": [
    "time_start = time.time()\n",
    "gbrm = GradientBoostingRegressor(learning_rate=0.1, max_depth= 8, min_samples_leaf = 100, \n",
    "                                 min_samples_split = 10, \n",
    "                                  random_state = 23, subsample= 0.8) \n",
    "gbrm.fit(X_train, np.ravel(y_train))\n",
    "print('time taken: ', time.time()-time_start, 's')\n",
    "y_pred = np.array([[x] for x in gbrm.predict(X_test)])\n",
    "display_results(y_pred, y_test)\n"
   ]
  },
  {
   "cell_type": "markdown",
   "id": "521c2c94",
   "metadata": {},
   "source": [
    "## Neural Network using Tensorflow"
   ]
  },
  {
   "cell_type": "code",
   "execution_count": 15,
   "id": "378f3ded",
   "metadata": {},
   "outputs": [],
   "source": [
    "import tensorflow as tf\n",
    "from tensorflow.keras.models import Model, Sequential\n",
    "from tensorflow.keras.layers import Dense, Input, Activation, Dropout\n",
    "from sklearn.metrics import mean_squared_error\n",
    "from tensorflow.keras.losses import MeanSquaredLogarithmicError\n",
    "from tensorflow.keras.optimizers import Adam\n",
    "\n",
    "\n",
    "from math import sqrt"
   ]
  },
  {
   "cell_type": "code",
   "execution_count": 16,
   "id": "3165a96d",
   "metadata": {},
   "outputs": [
    {
     "data": {
      "text/plain": [
       "'2.7.0'"
      ]
     },
     "execution_count": 16,
     "metadata": {},
     "output_type": "execute_result"
    }
   ],
   "source": [
    "tf.__version__"
   ]
  },
  {
   "cell_type": "code",
   "execution_count": 17,
   "id": "123d3f15",
   "metadata": {},
   "outputs": [],
   "source": [
    "input_layer = Input(shape=(X.shape[1],))\n",
    "dense_layer_1 = Dense(100, activation='relu')(input_layer)\n",
    "dense_layer_2 = Dense(200, activation='relu')(dense_layer_1)\n",
    "dense_layer_3 = Dense(50, activation='relu')(dense_layer_2)\n",
    "output = Dense(1)(dense_layer_3)\n",
    "\n",
    "model = Model(inputs=input_layer, outputs=output)\n",
    "model.compile(loss=\"mean_squared_error\" , optimizer=\"adam\", metrics=[\"mean_squared_error\"])"
   ]
  },
  {
   "cell_type": "code",
   "execution_count": 18,
   "id": "b4a89ba4",
   "metadata": {},
   "outputs": [
    {
     "name": "stdout",
     "output_type": "stream",
     "text": [
      "Epoch 1/50\n",
      "690/690 [==============================] - 1s 1ms/step - loss: 32689608704.0000 - mean_squared_error: 32689608704.0000 - val_loss: 19475380224.0000 - val_mean_squared_error: 19475380224.0000\n",
      "Epoch 2/50\n",
      "690/690 [==============================] - 1s 1ms/step - loss: 16080471040.0000 - mean_squared_error: 16080468992.0000 - val_loss: 18407174144.0000 - val_mean_squared_error: 18407174144.0000\n",
      "Epoch 3/50\n",
      "690/690 [==============================] - 1s 985us/step - loss: 15260067840.0000 - mean_squared_error: 15260067840.0000 - val_loss: 17745244160.0000 - val_mean_squared_error: 17745244160.0000\n",
      "Epoch 4/50\n",
      "690/690 [==============================] - 1s 1ms/step - loss: 14784906240.0000 - mean_squared_error: 14784906240.0000 - val_loss: 17352886272.0000 - val_mean_squared_error: 17352886272.0000\n",
      "Epoch 5/50\n",
      "690/690 [==============================] - 1s 1ms/step - loss: 14485051392.0000 - mean_squared_error: 14485051392.0000 - val_loss: 17088897024.0000 - val_mean_squared_error: 17088897024.0000\n",
      "Epoch 6/50\n",
      "690/690 [==============================] - 1s 1ms/step - loss: 14275466240.0000 - mean_squared_error: 14275466240.0000 - val_loss: 16888979456.0000 - val_mean_squared_error: 16888979456.0000\n",
      "Epoch 7/50\n",
      "690/690 [==============================] - 1s 1ms/step - loss: 14146968576.0000 - mean_squared_error: 14146968576.0000 - val_loss: 16799245312.0000 - val_mean_squared_error: 16799245312.0000\n",
      "Epoch 8/50\n",
      "690/690 [==============================] - 1s 1ms/step - loss: 14050448384.0000 - mean_squared_error: 14050448384.0000 - val_loss: 16666328064.0000 - val_mean_squared_error: 16666328064.0000\n",
      "Epoch 9/50\n",
      "690/690 [==============================] - 1s 1ms/step - loss: 13984136192.0000 - mean_squared_error: 13984136192.0000 - val_loss: 16599638016.0000 - val_mean_squared_error: 16599638016.0000\n",
      "Epoch 10/50\n",
      "690/690 [==============================] - 1s 1ms/step - loss: 13951485952.0000 - mean_squared_error: 13951485952.0000 - val_loss: 16549923840.0000 - val_mean_squared_error: 16549923840.0000\n",
      "Epoch 11/50\n",
      "690/690 [==============================] - 1s 969us/step - loss: 13917216768.0000 - mean_squared_error: 13917216768.0000 - val_loss: 16514883584.0000 - val_mean_squared_error: 16514883584.0000\n",
      "Epoch 12/50\n",
      "690/690 [==============================] - 1s 987us/step - loss: 13890662400.0000 - mean_squared_error: 13890662400.0000 - val_loss: 16527759360.0000 - val_mean_squared_error: 16527759360.0000\n",
      "Epoch 13/50\n",
      "690/690 [==============================] - 1s 1ms/step - loss: 13881125888.0000 - mean_squared_error: 13881125888.0000 - val_loss: 16472856576.0000 - val_mean_squared_error: 16472856576.0000\n",
      "Epoch 14/50\n",
      "690/690 [==============================] - 1s 974us/step - loss: 13869960192.0000 - mean_squared_error: 13869960192.0000 - val_loss: 16490279936.0000 - val_mean_squared_error: 16490279936.0000\n",
      "Epoch 15/50\n",
      "690/690 [==============================] - 1s 986us/step - loss: 13853126656.0000 - mean_squared_error: 13853126656.0000 - val_loss: 16481971200.0000 - val_mean_squared_error: 16481971200.0000\n",
      "Epoch 16/50\n",
      "690/690 [==============================] - 1s 958us/step - loss: 13847074816.0000 - mean_squared_error: 13847074816.0000 - val_loss: 16489119744.0000 - val_mean_squared_error: 16489119744.0000\n",
      "Epoch 17/50\n",
      "690/690 [==============================] - 1s 964us/step - loss: 13826053120.0000 - mean_squared_error: 13826053120.0000 - val_loss: 16447792128.0000 - val_mean_squared_error: 16447792128.0000\n",
      "Epoch 18/50\n",
      "690/690 [==============================] - 1s 1ms/step - loss: 13822213120.0000 - mean_squared_error: 13822214144.0000 - val_loss: 16413190144.0000 - val_mean_squared_error: 16413190144.0000\n",
      "Epoch 19/50\n",
      "690/690 [==============================] - 1s 1ms/step - loss: 13808168960.0000 - mean_squared_error: 13808168960.0000 - val_loss: 16461216768.0000 - val_mean_squared_error: 16461216768.0000\n",
      "Epoch 20/50\n",
      "690/690 [==============================] - 1s 1ms/step - loss: 13798707200.0000 - mean_squared_error: 13798707200.0000 - val_loss: 16406691840.0000 - val_mean_squared_error: 16406691840.0000\n",
      "Epoch 21/50\n",
      "690/690 [==============================] - 1s 1ms/step - loss: 13795240960.0000 - mean_squared_error: 13795240960.0000 - val_loss: 16433613824.0000 - val_mean_squared_error: 16433613824.0000\n",
      "Epoch 22/50\n",
      "690/690 [==============================] - 1s 1ms/step - loss: 13779659776.0000 - mean_squared_error: 13779659776.0000 - val_loss: 16361104384.0000 - val_mean_squared_error: 16361104384.0000\n",
      "Epoch 23/50\n",
      "690/690 [==============================] - 1s 1ms/step - loss: 13771073536.0000 - mean_squared_error: 13771073536.0000 - val_loss: 16416361472.0000 - val_mean_squared_error: 16416361472.0000\n",
      "Epoch 24/50\n",
      "690/690 [==============================] - 1s 1ms/step - loss: 13759652864.0000 - mean_squared_error: 13759652864.0000 - val_loss: 16366878720.0000 - val_mean_squared_error: 16366878720.0000\n",
      "Epoch 25/50\n",
      "690/690 [==============================] - 1s 972us/step - loss: 13762245632.0000 - mean_squared_error: 13762245632.0000 - val_loss: 16322882560.0000 - val_mean_squared_error: 16322883584.0000\n",
      "Epoch 26/50\n",
      "690/690 [==============================] - 1s 972us/step - loss: 13751275520.0000 - mean_squared_error: 13751275520.0000 - val_loss: 16319452160.0000 - val_mean_squared_error: 16319452160.0000\n",
      "Epoch 27/50\n",
      "690/690 [==============================] - 1s 998us/step - loss: 13739332608.0000 - mean_squared_error: 13739332608.0000 - val_loss: 16365553664.0000 - val_mean_squared_error: 16365553664.0000\n",
      "Epoch 28/50\n",
      "690/690 [==============================] - 1s 982us/step - loss: 13725983744.0000 - mean_squared_error: 13725983744.0000 - val_loss: 16307321856.0000 - val_mean_squared_error: 16307321856.0000\n",
      "Epoch 29/50\n",
      "690/690 [==============================] - 1s 999us/step - loss: 13728943104.0000 - mean_squared_error: 13728943104.0000 - val_loss: 16290494464.0000 - val_mean_squared_error: 16290494464.0000\n",
      "Epoch 30/50\n",
      "690/690 [==============================] - 1s 1000us/step - loss: 13708077056.0000 - mean_squared_error: 13708077056.0000 - val_loss: 16286033920.0000 - val_mean_squared_error: 16286032896.0000\n",
      "Epoch 31/50\n",
      "690/690 [==============================] - 1s 1ms/step - loss: 13700858880.0000 - mean_squared_error: 13700860928.0000 - val_loss: 16362506240.0000 - val_mean_squared_error: 16362506240.0000\n",
      "Epoch 32/50\n",
      "690/690 [==============================] - 1s 1ms/step - loss: 13698867200.0000 - mean_squared_error: 13698867200.0000 - val_loss: 16263886848.0000 - val_mean_squared_error: 16263886848.0000\n",
      "Epoch 33/50\n",
      "690/690 [==============================] - 1s 1ms/step - loss: 13691104256.0000 - mean_squared_error: 13691104256.0000 - val_loss: 16264768512.0000 - val_mean_squared_error: 16264768512.0000\n",
      "Epoch 34/50\n",
      "690/690 [==============================] - 1s 1ms/step - loss: 13678274560.0000 - mean_squared_error: 13678274560.0000 - val_loss: 16252789760.0000 - val_mean_squared_error: 16252789760.0000\n",
      "Epoch 35/50\n",
      "690/690 [==============================] - 1s 1ms/step - loss: 13681577984.0000 - mean_squared_error: 13681577984.0000 - val_loss: 16328759296.0000 - val_mean_squared_error: 16328760320.0000\n",
      "Epoch 36/50\n",
      "690/690 [==============================] - 1s 966us/step - loss: 13670953984.0000 - mean_squared_error: 13670953984.0000 - val_loss: 16305907712.0000 - val_mean_squared_error: 16305907712.0000\n",
      "Epoch 37/50\n",
      "690/690 [==============================] - 1s 992us/step - loss: 13659052032.0000 - mean_squared_error: 13659052032.0000 - val_loss: 16296064000.0000 - val_mean_squared_error: 16296064000.0000\n",
      "Epoch 38/50\n",
      "690/690 [==============================] - 1s 986us/step - loss: 13657704448.0000 - mean_squared_error: 13657704448.0000 - val_loss: 16235204608.0000 - val_mean_squared_error: 16235203584.0000\n",
      "Epoch 39/50\n",
      "690/690 [==============================] - 1s 1ms/step - loss: 13646454784.0000 - mean_squared_error: 13646454784.0000 - val_loss: 16265104384.0000 - val_mean_squared_error: 16265104384.0000\n",
      "Epoch 40/50\n",
      "690/690 [==============================] - 1s 1ms/step - loss: 13635780608.0000 - mean_squared_error: 13635780608.0000 - val_loss: 16224191488.0000 - val_mean_squared_error: 16224191488.0000\n",
      "Epoch 41/50\n"
     ]
    },
    {
     "name": "stdout",
     "output_type": "stream",
     "text": [
      "690/690 [==============================] - 1s 1ms/step - loss: 13647648768.0000 - mean_squared_error: 13647648768.0000 - val_loss: 16221144064.0000 - val_mean_squared_error: 16221144064.0000\n",
      "Epoch 42/50\n",
      "690/690 [==============================] - 1s 996us/step - loss: 13633670144.0000 - mean_squared_error: 13633670144.0000 - val_loss: 16213843968.0000 - val_mean_squared_error: 16213843968.0000\n",
      "Epoch 43/50\n",
      "690/690 [==============================] - 1s 1ms/step - loss: 13625812992.0000 - mean_squared_error: 13625812992.0000 - val_loss: 16283538432.0000 - val_mean_squared_error: 16283538432.0000\n",
      "Epoch 44/50\n",
      "690/690 [==============================] - 1s 995us/step - loss: 13616848896.0000 - mean_squared_error: 13616848896.0000 - val_loss: 16274065408.0000 - val_mean_squared_error: 16274065408.0000\n",
      "Epoch 45/50\n",
      "690/690 [==============================] - 1s 1ms/step - loss: 13621510144.0000 - mean_squared_error: 13621510144.0000 - val_loss: 16230855680.0000 - val_mean_squared_error: 16230855680.0000\n",
      "Epoch 46/50\n",
      "690/690 [==============================] - 1s 1ms/step - loss: 13617313792.0000 - mean_squared_error: 13617313792.0000 - val_loss: 16216286208.0000 - val_mean_squared_error: 16216287232.0000\n",
      "Epoch 47/50\n",
      "690/690 [==============================] - 1s 1ms/step - loss: 13608882176.0000 - mean_squared_error: 13608882176.0000 - val_loss: 16200291328.0000 - val_mean_squared_error: 16200291328.0000\n",
      "Epoch 48/50\n",
      "690/690 [==============================] - 1s 1ms/step - loss: 13598884864.0000 - mean_squared_error: 13598884864.0000 - val_loss: 16210883584.0000 - val_mean_squared_error: 16210883584.0000\n",
      "Epoch 49/50\n",
      "690/690 [==============================] - 1s 932us/step - loss: 13602951168.0000 - mean_squared_error: 13602951168.0000 - val_loss: 16193405952.0000 - val_mean_squared_error: 16193405952.0000\n",
      "Epoch 50/50\n",
      "690/690 [==============================] - 1s 1ms/step - loss: 13591686144.0000 - mean_squared_error: 13591686144.0000 - val_loss: 16179992576.0000 - val_mean_squared_error: 16179992576.0000\n"
     ]
    }
   ],
   "source": [
    "history = model.fit(X_train, y_train, batch_size=50, epochs=50, verbose=1, validation_split=0.2)"
   ]
  },
  {
   "cell_type": "code",
   "execution_count": 19,
   "id": "b04bddc6",
   "metadata": {},
   "outputs": [
    {
     "name": "stdout",
     "output_type": "stream",
     "text": [
      "Model train metrics:\n",
      "Predicted 1-5: [199785 340171 212267 303016 183237 421433 153186 356430 254625 306124]\n",
      "Actual 1-5: [121000 400000 240000 415000  59000 340000 230000 363000 132000 184000]\n",
      "Difference:  [  78785  -59829  -27733 -111984  124237   81433  -76814   -6570  122625\n",
      "  122124]\n",
      "RMSE:  276.4921303229691\n",
      "R-squared:  0.29604125972386364\n",
      "Model test metrics:\n",
      "Predicted 1-5: [245437 228091 419986 145952 210530 247949 221970 185267 167657 186925]\n",
      "Actual 1-5: [181000 240000 600000  40000 230000 330000 280000 189000 127000 271000]\n",
      "Difference:  [  64437  -11909 -180014  105952  -19470  -82051  -58030   -3733   40657\n",
      "  -84075]\n",
      "RMSE:  274.7232877351471\n",
      "R-squared:  0.3247491910530127\n"
     ]
    }
   ],
   "source": [
    "print (\"Model train metrics:\")\n",
    "pred_train = model.predict(X_train)\n",
    "display_results(pred_train, y_train)\n",
    "\n",
    "print(\"Model test metrics:\")\n",
    "pred_test = model.predict(X_test)\n",
    "display_results(pred_test, y_test)"
   ]
  },
  {
   "cell_type": "code",
   "execution_count": 20,
   "id": "8f2fc40b",
   "metadata": {},
   "outputs": [
    {
     "name": "stdout",
     "output_type": "stream",
     "text": [
      "Epoch 1/50\n",
      "539/539 [==============================] - 2s 2ms/step - loss: 1.8983 - mean_squared_logarithmic_error: 1.8971 - val_loss: 0.3096 - val_mean_squared_logarithmic_error: 0.3102\n",
      "Epoch 2/50\n",
      "539/539 [==============================] - 1s 2ms/step - loss: 0.3000 - mean_squared_logarithmic_error: 0.2999 - val_loss: 0.2867 - val_mean_squared_logarithmic_error: 0.2873\n",
      "Epoch 3/50\n",
      "539/539 [==============================] - 1s 2ms/step - loss: 0.2860 - mean_squared_logarithmic_error: 0.2859 - val_loss: 0.2790 - val_mean_squared_logarithmic_error: 0.2796\n",
      "Epoch 4/50\n",
      "539/539 [==============================] - 1s 2ms/step - loss: 0.2818 - mean_squared_logarithmic_error: 0.2819 - val_loss: 0.2762 - val_mean_squared_logarithmic_error: 0.2768\n",
      "Epoch 5/50\n",
      "539/539 [==============================] - 1s 2ms/step - loss: 0.2809 - mean_squared_logarithmic_error: 0.2808 - val_loss: 0.2741 - val_mean_squared_logarithmic_error: 0.2746\n",
      "Epoch 6/50\n",
      "539/539 [==============================] - 1s 2ms/step - loss: 0.2787 - mean_squared_logarithmic_error: 0.2787 - val_loss: 0.2723 - val_mean_squared_logarithmic_error: 0.2729\n",
      "Epoch 7/50\n",
      "539/539 [==============================] - 1s 2ms/step - loss: 0.2775 - mean_squared_logarithmic_error: 0.2774 - val_loss: 0.2729 - val_mean_squared_logarithmic_error: 0.2735\n",
      "Epoch 8/50\n",
      "539/539 [==============================] - 1s 2ms/step - loss: 0.2758 - mean_squared_logarithmic_error: 0.2758 - val_loss: 0.2707 - val_mean_squared_logarithmic_error: 0.2712\n",
      "Epoch 9/50\n",
      "539/539 [==============================] - 1s 2ms/step - loss: 0.2757 - mean_squared_logarithmic_error: 0.2756 - val_loss: 0.2713 - val_mean_squared_logarithmic_error: 0.2719\n",
      "Epoch 10/50\n",
      "539/539 [==============================] - 1s 2ms/step - loss: 0.2753 - mean_squared_logarithmic_error: 0.2752 - val_loss: 0.2710 - val_mean_squared_logarithmic_error: 0.2715\n",
      "Epoch 11/50\n",
      "539/539 [==============================] - 1s 2ms/step - loss: 0.2757 - mean_squared_logarithmic_error: 0.2757 - val_loss: 0.2691 - val_mean_squared_logarithmic_error: 0.2696\n",
      "Epoch 12/50\n",
      "539/539 [==============================] - 1s 2ms/step - loss: 0.2750 - mean_squared_logarithmic_error: 0.2749 - val_loss: 0.2708 - val_mean_squared_logarithmic_error: 0.2713\n",
      "Epoch 13/50\n",
      "539/539 [==============================] - 1s 2ms/step - loss: 0.2751 - mean_squared_logarithmic_error: 0.2751 - val_loss: 0.2709 - val_mean_squared_logarithmic_error: 0.2715\n",
      "Epoch 14/50\n",
      "539/539 [==============================] - 1s 2ms/step - loss: 0.2756 - mean_squared_logarithmic_error: 0.2756 - val_loss: 0.2740 - val_mean_squared_logarithmic_error: 0.2746\n",
      "Epoch 15/50\n",
      "539/539 [==============================] - 1s 2ms/step - loss: 0.2753 - mean_squared_logarithmic_error: 0.2754 - val_loss: 0.2708 - val_mean_squared_logarithmic_error: 0.2714\n",
      "Epoch 16/50\n",
      "539/539 [==============================] - 1s 2ms/step - loss: 0.2747 - mean_squared_logarithmic_error: 0.2747 - val_loss: 0.2707 - val_mean_squared_logarithmic_error: 0.2712\n",
      "Epoch 17/50\n",
      "539/539 [==============================] - 1s 2ms/step - loss: 0.2747 - mean_squared_logarithmic_error: 0.2747 - val_loss: 0.2810 - val_mean_squared_logarithmic_error: 0.2816\n",
      "Epoch 18/50\n",
      "539/539 [==============================] - 1s 2ms/step - loss: 0.2748 - mean_squared_logarithmic_error: 0.2748 - val_loss: 0.2759 - val_mean_squared_logarithmic_error: 0.2764\n",
      "Epoch 19/50\n",
      "539/539 [==============================] - 1s 2ms/step - loss: 0.2754 - mean_squared_logarithmic_error: 0.2754 - val_loss: 0.2714 - val_mean_squared_logarithmic_error: 0.2719\n",
      "Epoch 20/50\n",
      "539/539 [==============================] - 1s 2ms/step - loss: 0.2750 - mean_squared_logarithmic_error: 0.2749 - val_loss: 0.2709 - val_mean_squared_logarithmic_error: 0.2715\n",
      "Epoch 21/50\n",
      "539/539 [==============================] - 1s 2ms/step - loss: 0.2757 - mean_squared_logarithmic_error: 0.2756 - val_loss: 0.2693 - val_mean_squared_logarithmic_error: 0.2698\n",
      "Epoch 22/50\n",
      "539/539 [==============================] - 1s 2ms/step - loss: 0.2741 - mean_squared_logarithmic_error: 0.2740 - val_loss: 0.2686 - val_mean_squared_logarithmic_error: 0.2692\n",
      "Epoch 23/50\n",
      "539/539 [==============================] - 1s 2ms/step - loss: 0.2754 - mean_squared_logarithmic_error: 0.2755 - val_loss: 0.2760 - val_mean_squared_logarithmic_error: 0.2766\n",
      "Epoch 24/50\n",
      "539/539 [==============================] - 1s 2ms/step - loss: 0.2750 - mean_squared_logarithmic_error: 0.2750 - val_loss: 0.2695 - val_mean_squared_logarithmic_error: 0.2701\n",
      "Epoch 25/50\n",
      "539/539 [==============================] - 1s 2ms/step - loss: 0.2748 - mean_squared_logarithmic_error: 0.2748 - val_loss: 0.2704 - val_mean_squared_logarithmic_error: 0.2709\n",
      "Epoch 26/50\n",
      "539/539 [==============================] - 1s 2ms/step - loss: 0.2738 - mean_squared_logarithmic_error: 0.2738 - val_loss: 0.2695 - val_mean_squared_logarithmic_error: 0.2701\n",
      "Epoch 27/50\n",
      "539/539 [==============================] - 1s 2ms/step - loss: 0.2737 - mean_squared_logarithmic_error: 0.2737 - val_loss: 0.2686 - val_mean_squared_logarithmic_error: 0.2692\n",
      "Epoch 28/50\n",
      "539/539 [==============================] - 1s 2ms/step - loss: 0.2733 - mean_squared_logarithmic_error: 0.2734 - val_loss: 0.2706 - val_mean_squared_logarithmic_error: 0.2712\n",
      "Epoch 29/50\n",
      "539/539 [==============================] - 1s 2ms/step - loss: 0.2725 - mean_squared_logarithmic_error: 0.2724 - val_loss: 0.2685 - val_mean_squared_logarithmic_error: 0.2691\n",
      "Epoch 30/50\n",
      "539/539 [==============================] - 1s 2ms/step - loss: 0.2732 - mean_squared_logarithmic_error: 0.2733 - val_loss: 0.2687 - val_mean_squared_logarithmic_error: 0.2692\n",
      "Epoch 31/50\n",
      "539/539 [==============================] - 1s 2ms/step - loss: 0.2733 - mean_squared_logarithmic_error: 0.2735 - val_loss: 0.2698 - val_mean_squared_logarithmic_error: 0.2703\n",
      "Epoch 32/50\n",
      "539/539 [==============================] - 1s 2ms/step - loss: 0.2714 - mean_squared_logarithmic_error: 0.2713 - val_loss: 0.2685 - val_mean_squared_logarithmic_error: 0.2690\n",
      "Epoch 33/50\n",
      "539/539 [==============================] - 1s 2ms/step - loss: 0.2727 - mean_squared_logarithmic_error: 0.2728 - val_loss: 0.2710 - val_mean_squared_logarithmic_error: 0.2715\n",
      "Epoch 34/50\n",
      "539/539 [==============================] - 1s 2ms/step - loss: 0.2727 - mean_squared_logarithmic_error: 0.2726 - val_loss: 0.2685 - val_mean_squared_logarithmic_error: 0.2690\n",
      "Epoch 35/50\n",
      "539/539 [==============================] - 1s 2ms/step - loss: 0.2729 - mean_squared_logarithmic_error: 0.2730 - val_loss: 0.2718 - val_mean_squared_logarithmic_error: 0.2723\n",
      "Epoch 36/50\n",
      "539/539 [==============================] - 1s 2ms/step - loss: 0.2724 - mean_squared_logarithmic_error: 0.2724 - val_loss: 0.2687 - val_mean_squared_logarithmic_error: 0.2692\n",
      "Epoch 37/50\n",
      "539/539 [==============================] - 1s 2ms/step - loss: 0.2716 - mean_squared_logarithmic_error: 0.2716 - val_loss: 0.2711 - val_mean_squared_logarithmic_error: 0.2716\n",
      "Epoch 38/50\n",
      "539/539 [==============================] - 1s 2ms/step - loss: 0.2723 - mean_squared_logarithmic_error: 0.2724 - val_loss: 0.2680 - val_mean_squared_logarithmic_error: 0.2685\n",
      "Epoch 39/50\n",
      "539/539 [==============================] - 1s 2ms/step - loss: 0.2724 - mean_squared_logarithmic_error: 0.2723 - val_loss: 0.2696 - val_mean_squared_logarithmic_error: 0.2701\n",
      "Epoch 40/50\n",
      "539/539 [==============================] - 1s 2ms/step - loss: 0.2716 - mean_squared_logarithmic_error: 0.2716 - val_loss: 0.2687 - val_mean_squared_logarithmic_error: 0.2692\n",
      "Epoch 41/50\n",
      "539/539 [==============================] - 1s 2ms/step - loss: 0.2713 - mean_squared_logarithmic_error: 0.2712 - val_loss: 0.2719 - val_mean_squared_logarithmic_error: 0.2724\n",
      "Epoch 42/50\n",
      "539/539 [==============================] - 1s 2ms/step - loss: 0.2722 - mean_squared_logarithmic_error: 0.2721 - val_loss: 0.2687 - val_mean_squared_logarithmic_error: 0.2692\n",
      "Epoch 43/50\n",
      "539/539 [==============================] - 1s 2ms/step - loss: 0.2712 - mean_squared_logarithmic_error: 0.2712 - val_loss: 0.2674 - val_mean_squared_logarithmic_error: 0.2679\n",
      "Epoch 44/50\n",
      "539/539 [==============================] - 1s 2ms/step - loss: 0.2717 - mean_squared_logarithmic_error: 0.2716 - val_loss: 0.2685 - val_mean_squared_logarithmic_error: 0.2690\n"
     ]
    },
    {
     "name": "stdout",
     "output_type": "stream",
     "text": [
      "Epoch 45/50\n",
      "539/539 [==============================] - 1s 2ms/step - loss: 0.2711 - mean_squared_logarithmic_error: 0.2711 - val_loss: 0.2706 - val_mean_squared_logarithmic_error: 0.2711\n",
      "Epoch 46/50\n",
      "539/539 [==============================] - 1s 2ms/step - loss: 0.2715 - mean_squared_logarithmic_error: 0.2714 - val_loss: 0.2677 - val_mean_squared_logarithmic_error: 0.2682\n",
      "Epoch 47/50\n",
      "539/539 [==============================] - 1s 2ms/step - loss: 0.2714 - mean_squared_logarithmic_error: 0.2713 - val_loss: 0.2678 - val_mean_squared_logarithmic_error: 0.2683\n",
      "Epoch 48/50\n",
      "539/539 [==============================] - 1s 2ms/step - loss: 0.2715 - mean_squared_logarithmic_error: 0.2716 - val_loss: 0.2684 - val_mean_squared_logarithmic_error: 0.2689\n",
      "Epoch 49/50\n",
      "539/539 [==============================] - 1s 2ms/step - loss: 0.2720 - mean_squared_logarithmic_error: 0.2720 - val_loss: 0.2775 - val_mean_squared_logarithmic_error: 0.2780\n",
      "Epoch 50/50\n",
      "539/539 [==============================] - 1s 2ms/step - loss: 0.2711 - mean_squared_logarithmic_error: 0.2711 - val_loss: 0.2677 - val_mean_squared_logarithmic_error: 0.2682\n"
     ]
    }
   ],
   "source": [
    "hidden_units1 = 160\n",
    "hidden_units2 = 480\n",
    "hidden_units3 = 256\n",
    "learning_rate = 0.01\n",
    "\n",
    "# build the model\n",
    "model = Sequential([\n",
    "    Dense(hidden_units1, kernel_initializer='normal', activation='relu'),\n",
    "    Dropout(0.2),\n",
    "    Dense(hidden_units2, kernel_initializer='normal', activation='relu'),\n",
    "    Dropout(0.2),\n",
    "    Dense(hidden_units3, kernel_initializer='normal', activation='relu'),\n",
    "    Dense(1, kernel_initializer='normal', activation='linear')\n",
    "  ])\n",
    "\n",
    "# loss function\n",
    "msle = MeanSquaredLogarithmicError()\n",
    "model.compile(\n",
    "    loss=msle, \n",
    "    optimizer=Adam(learning_rate=learning_rate), \n",
    "    metrics=[msle]\n",
    ")\n",
    "# train the model\n",
    "history = model.fit(\n",
    "    X_train, \n",
    "    y_train, \n",
    "    epochs=50, \n",
    "    batch_size=64,\n",
    "    validation_split=0.2\n",
    ")"
   ]
  },
  {
   "cell_type": "code",
   "execution_count": 21,
   "id": "e90fe26f",
   "metadata": {},
   "outputs": [
    {
     "name": "stdout",
     "output_type": "stream",
     "text": [
      "Model train metrics:\n",
      "Predicted 1-5: [190202 299964 160564 248229 154128 359592 135760 313821 226208 256825]\n",
      "Actual 1-5: [121000 400000 240000 415000  59000 340000 230000 363000 132000 184000]\n",
      "Difference:  [  69202 -100036  -79436 -166771   95128   19592  -94240  -49179   94208\n",
      "   72825]\n",
      "RMSE:  273.1191861605628\n",
      "R-squared:  0.2684701184340258\n",
      "Model test metrics:\n",
      "Predicted 1-5: [221109 185898 356501 128576 188118 208981 212616 165051 144984 161581]\n",
      "Actual 1-5: [181000 240000 600000  40000 230000 330000 280000 189000 127000 271000]\n",
      "Difference:  [  40109  -54102 -243499   88576  -41882 -121019  -67384  -23949   17984\n",
      " -109419]\n",
      "RMSE:  271.1757287587627\n",
      "R-squared:  0.297153027501567\n"
     ]
    }
   ],
   "source": [
    "print (\"Model train metrics:\")\n",
    "pred_train = model.predict(X_train)\n",
    "display_results(pred_train, y_train)\n",
    "\n",
    "print(\"Model test metrics:\")\n",
    "pred_test = model.predict(X_test)\n",
    "display_results(pred_test, y_test)"
   ]
  },
  {
   "cell_type": "code",
   "execution_count": 22,
   "id": "38e7d5e5",
   "metadata": {},
   "outputs": [
    {
     "name": "stdout",
     "output_type": "stream",
     "text": [
      "Epoch 1/50\n",
      "539/539 [==============================] - 2s 2ms/step - loss: 0.7849 - mean_squared_logarithmic_error: 0.7846 - val_loss: 0.2811 - val_mean_squared_logarithmic_error: 0.2816\n",
      "Epoch 2/50\n",
      "539/539 [==============================] - 1s 2ms/step - loss: 0.2952 - mean_squared_logarithmic_error: 0.2952 - val_loss: 0.2801 - val_mean_squared_logarithmic_error: 0.2807\n",
      "Epoch 3/50\n",
      "539/539 [==============================] - 1s 2ms/step - loss: 0.2954 - mean_squared_logarithmic_error: 0.2953 - val_loss: 0.2742 - val_mean_squared_logarithmic_error: 0.2748\n",
      "Epoch 4/50\n",
      "539/539 [==============================] - 1s 2ms/step - loss: 0.2938 - mean_squared_logarithmic_error: 0.2937 - val_loss: 0.2735 - val_mean_squared_logarithmic_error: 0.2741\n",
      "Epoch 5/50\n",
      "539/539 [==============================] - 1s 2ms/step - loss: 0.2944 - mean_squared_logarithmic_error: 0.2943 - val_loss: 0.2778 - val_mean_squared_logarithmic_error: 0.2785\n",
      "Epoch 6/50\n",
      "539/539 [==============================] - 1s 2ms/step - loss: 0.2997 - mean_squared_logarithmic_error: 0.2997 - val_loss: 0.3397 - val_mean_squared_logarithmic_error: 0.3401\n",
      "Epoch 7/50\n",
      "539/539 [==============================] - 1s 2ms/step - loss: 0.2991 - mean_squared_logarithmic_error: 0.2991 - val_loss: 0.2779 - val_mean_squared_logarithmic_error: 0.2784\n",
      "Epoch 8/50\n",
      "539/539 [==============================] - 1s 2ms/step - loss: 0.3018 - mean_squared_logarithmic_error: 0.3019 - val_loss: 0.3004 - val_mean_squared_logarithmic_error: 0.3010\n",
      "Epoch 9/50\n",
      "539/539 [==============================] - 1s 2ms/step - loss: 0.3030 - mean_squared_logarithmic_error: 0.3030 - val_loss: 0.2727 - val_mean_squared_logarithmic_error: 0.2732\n",
      "Epoch 10/50\n",
      "539/539 [==============================] - 1s 2ms/step - loss: 0.3054 - mean_squared_logarithmic_error: 0.3053 - val_loss: 0.2748 - val_mean_squared_logarithmic_error: 0.2754\n",
      "Epoch 11/50\n",
      "539/539 [==============================] - 1s 2ms/step - loss: 0.3015 - mean_squared_logarithmic_error: 0.3014 - val_loss: 0.2774 - val_mean_squared_logarithmic_error: 0.2779\n",
      "Epoch 12/50\n",
      "539/539 [==============================] - 1s 2ms/step - loss: 0.3018 - mean_squared_logarithmic_error: 0.3019 - val_loss: 0.2729 - val_mean_squared_logarithmic_error: 0.2734\n",
      "Epoch 13/50\n",
      "539/539 [==============================] - 1s 2ms/step - loss: 0.3053 - mean_squared_logarithmic_error: 0.3053 - val_loss: 0.2774 - val_mean_squared_logarithmic_error: 0.2780\n",
      "Epoch 14/50\n",
      "539/539 [==============================] - 1s 2ms/step - loss: 0.2996 - mean_squared_logarithmic_error: 0.2995 - val_loss: 0.2892 - val_mean_squared_logarithmic_error: 0.2898\n",
      "Epoch 15/50\n",
      "539/539 [==============================] - 1s 2ms/step - loss: 0.3034 - mean_squared_logarithmic_error: 0.3035 - val_loss: 0.2845 - val_mean_squared_logarithmic_error: 0.2851\n",
      "Epoch 16/50\n",
      "539/539 [==============================] - 1s 2ms/step - loss: 0.3038 - mean_squared_logarithmic_error: 0.3039 - val_loss: 0.2805 - val_mean_squared_logarithmic_error: 0.2810\n",
      "Epoch 17/50\n",
      "539/539 [==============================] - 1s 2ms/step - loss: 0.3019 - mean_squared_logarithmic_error: 0.3019 - val_loss: 0.3421 - val_mean_squared_logarithmic_error: 0.3427\n",
      "Epoch 18/50\n",
      "539/539 [==============================] - 1s 2ms/step - loss: 0.3007 - mean_squared_logarithmic_error: 0.3006 - val_loss: 0.2834 - val_mean_squared_logarithmic_error: 0.2839\n",
      "Epoch 19/50\n",
      "539/539 [==============================] - 1s 2ms/step - loss: 0.3032 - mean_squared_logarithmic_error: 0.3031 - val_loss: 0.2752 - val_mean_squared_logarithmic_error: 0.2757\n",
      "Epoch 20/50\n",
      "539/539 [==============================] - 1s 2ms/step - loss: 0.3041 - mean_squared_logarithmic_error: 0.3041 - val_loss: 0.2885 - val_mean_squared_logarithmic_error: 0.2889\n",
      "Epoch 21/50\n",
      "539/539 [==============================] - 1s 2ms/step - loss: 0.2978 - mean_squared_logarithmic_error: 0.2978 - val_loss: 0.2701 - val_mean_squared_logarithmic_error: 0.2706\n",
      "Epoch 22/50\n",
      "539/539 [==============================] - 1s 2ms/step - loss: 0.3003 - mean_squared_logarithmic_error: 0.3005 - val_loss: 0.3075 - val_mean_squared_logarithmic_error: 0.3079\n",
      "Epoch 23/50\n",
      "539/539 [==============================] - 1s 2ms/step - loss: 0.3066 - mean_squared_logarithmic_error: 0.3066 - val_loss: 0.2774 - val_mean_squared_logarithmic_error: 0.2780\n",
      "Epoch 24/50\n",
      "539/539 [==============================] - 1s 2ms/step - loss: 0.2998 - mean_squared_logarithmic_error: 0.2997 - val_loss: 0.2741 - val_mean_squared_logarithmic_error: 0.2746\n",
      "Epoch 25/50\n",
      "539/539 [==============================] - 1s 2ms/step - loss: 0.2998 - mean_squared_logarithmic_error: 0.2998 - val_loss: 0.2720 - val_mean_squared_logarithmic_error: 0.2725\n",
      "Epoch 26/50\n",
      "539/539 [==============================] - 1s 2ms/step - loss: 0.3004 - mean_squared_logarithmic_error: 0.3005 - val_loss: 0.2702 - val_mean_squared_logarithmic_error: 0.2707\n",
      "Epoch 27/50\n",
      "539/539 [==============================] - 1s 2ms/step - loss: 0.2967 - mean_squared_logarithmic_error: 0.2968 - val_loss: 0.2761 - val_mean_squared_logarithmic_error: 0.2767\n",
      "Epoch 28/50\n",
      "539/539 [==============================] - 1s 2ms/step - loss: 0.2956 - mean_squared_logarithmic_error: 0.2956 - val_loss: 0.2742 - val_mean_squared_logarithmic_error: 0.2748\n",
      "Epoch 29/50\n",
      "539/539 [==============================] - 1s 2ms/step - loss: 0.2930 - mean_squared_logarithmic_error: 0.2931 - val_loss: 0.2715 - val_mean_squared_logarithmic_error: 0.2719\n",
      "Epoch 30/50\n",
      "539/539 [==============================] - 1s 2ms/step - loss: 0.2942 - mean_squared_logarithmic_error: 0.2941 - val_loss: 0.2711 - val_mean_squared_logarithmic_error: 0.2715\n",
      "Epoch 31/50\n",
      "539/539 [==============================] - 1s 2ms/step - loss: 0.2917 - mean_squared_logarithmic_error: 0.2917 - val_loss: 0.2881 - val_mean_squared_logarithmic_error: 0.2886\n",
      "Epoch 32/50\n",
      "539/539 [==============================] - 1s 2ms/step - loss: 0.2905 - mean_squared_logarithmic_error: 0.2904 - val_loss: 0.2730 - val_mean_squared_logarithmic_error: 0.2735\n",
      "Epoch 33/50\n",
      "539/539 [==============================] - 1s 2ms/step - loss: 0.2912 - mean_squared_logarithmic_error: 0.2915 - val_loss: 0.2777 - val_mean_squared_logarithmic_error: 0.2782\n",
      "Epoch 34/50\n",
      "539/539 [==============================] - 1s 2ms/step - loss: 0.2948 - mean_squared_logarithmic_error: 0.2949 - val_loss: 0.2838 - val_mean_squared_logarithmic_error: 0.2843\n",
      "Epoch 35/50\n",
      "539/539 [==============================] - 1s 2ms/step - loss: 0.2922 - mean_squared_logarithmic_error: 0.2922 - val_loss: 0.2725 - val_mean_squared_logarithmic_error: 0.2730\n",
      "Epoch 36/50\n",
      "539/539 [==============================] - 1s 2ms/step - loss: 0.2923 - mean_squared_logarithmic_error: 0.2923 - val_loss: 0.2743 - val_mean_squared_logarithmic_error: 0.2747\n",
      "Epoch 37/50\n",
      "539/539 [==============================] - 1s 2ms/step - loss: 0.2916 - mean_squared_logarithmic_error: 0.2915 - val_loss: 0.2736 - val_mean_squared_logarithmic_error: 0.2741\n",
      "Epoch 38/50\n",
      "539/539 [==============================] - 1s 2ms/step - loss: 0.2914 - mean_squared_logarithmic_error: 0.2913 - val_loss: 0.2863 - val_mean_squared_logarithmic_error: 0.2867\n",
      "Epoch 39/50\n",
      "539/539 [==============================] - 1s 2ms/step - loss: 0.2909 - mean_squared_logarithmic_error: 0.2908 - val_loss: 0.2700 - val_mean_squared_logarithmic_error: 0.2705\n",
      "Epoch 40/50\n",
      "539/539 [==============================] - 1s 2ms/step - loss: 0.2910 - mean_squared_logarithmic_error: 0.2911 - val_loss: 0.3308 - val_mean_squared_logarithmic_error: 0.3312\n",
      "Epoch 41/50\n",
      "539/539 [==============================] - 1s 2ms/step - loss: 0.2944 - mean_squared_logarithmic_error: 0.2944 - val_loss: 0.2724 - val_mean_squared_logarithmic_error: 0.2728\n",
      "Epoch 42/50\n",
      "539/539 [==============================] - 1s 2ms/step - loss: 0.2882 - mean_squared_logarithmic_error: 0.2882 - val_loss: 0.2731 - val_mean_squared_logarithmic_error: 0.2736\n",
      "Epoch 43/50\n",
      "539/539 [==============================] - 1s 2ms/step - loss: 0.2887 - mean_squared_logarithmic_error: 0.2887 - val_loss: 0.2738 - val_mean_squared_logarithmic_error: 0.2742\n",
      "Epoch 44/50\n",
      "539/539 [==============================] - 1s 2ms/step - loss: 0.2920 - mean_squared_logarithmic_error: 0.2919 - val_loss: 0.3271 - val_mean_squared_logarithmic_error: 0.3275\n"
     ]
    },
    {
     "name": "stdout",
     "output_type": "stream",
     "text": [
      "Epoch 45/50\n",
      "539/539 [==============================] - 1s 2ms/step - loss: 0.2896 - mean_squared_logarithmic_error: 0.2896 - val_loss: 0.2849 - val_mean_squared_logarithmic_error: 0.2854\n",
      "Epoch 46/50\n",
      "539/539 [==============================] - 1s 2ms/step - loss: 0.2898 - mean_squared_logarithmic_error: 0.2899 - val_loss: 0.2722 - val_mean_squared_logarithmic_error: 0.2727\n",
      "Epoch 47/50\n",
      "539/539 [==============================] - 1s 2ms/step - loss: 0.2933 - mean_squared_logarithmic_error: 0.2932 - val_loss: 0.2821 - val_mean_squared_logarithmic_error: 0.2826\n",
      "Epoch 48/50\n",
      "539/539 [==============================] - 1s 2ms/step - loss: 0.2886 - mean_squared_logarithmic_error: 0.2885 - val_loss: 0.2801 - val_mean_squared_logarithmic_error: 0.2807\n",
      "Epoch 49/50\n",
      "539/539 [==============================] - 1s 2ms/step - loss: 0.2917 - mean_squared_logarithmic_error: 0.2917 - val_loss: 0.2912 - val_mean_squared_logarithmic_error: 0.2916\n",
      "Epoch 50/50\n",
      "539/539 [==============================] - 1s 2ms/step - loss: 0.2885 - mean_squared_logarithmic_error: 0.2885 - val_loss: 0.2793 - val_mean_squared_logarithmic_error: 0.2798\n"
     ]
    }
   ],
   "source": [
    "hidden_units1 = 512\n",
    "hidden_units2 = 256\n",
    "hidden_units3 = 128\n",
    "hidden_units4 = 256\n",
    "hidden_units5 = 128\n",
    "learning_rate = 0.1\n",
    "\n",
    "# build the model\n",
    "model = Sequential([\n",
    "    Dense(hidden_units1, kernel_initializer='normal', activation='relu'),\n",
    "    Dropout(0.2),\n",
    "    Dense(hidden_units2, kernel_initializer='normal', activation='relu'),\n",
    "   Dropout(0.2),\n",
    "    Dense(hidden_units3, kernel_initializer='normal', activation='relu'),\n",
    "    Dropout(0.2),\n",
    "   # Dense(hidden_units4, kernel_initializer='normal', activation='relu'),\n",
    "   # Dropout(0.2),\n",
    "    #Dense(hidden_units5, kernel_initializer='normal', activation='relu'),\n",
    "    Dense(1, kernel_initializer='normal', activation='linear')\n",
    "  ])\n",
    "\n",
    "# loss function\n",
    "msle = MeanSquaredLogarithmicError()\n",
    "model.compile(\n",
    "    loss=msle, \n",
    "    optimizer=Adam(learning_rate=learning_rate), \n",
    "    metrics=[msle]\n",
    ")\n",
    "# train the model\n",
    "history = model.fit(\n",
    "    X_train, \n",
    "    y_train, \n",
    "    epochs=50, \n",
    "    batch_size=64,\n",
    "    validation_split=0.2\n",
    ")"
   ]
  },
  {
   "cell_type": "code",
   "execution_count": 23,
   "id": "215f5a98",
   "metadata": {},
   "outputs": [
    {
     "name": "stdout",
     "output_type": "stream",
     "text": [
      "Model train metrics:\n",
      "Predicted 1-5: [166604 265999 153658 204179 129449 364457 137466 250076 209123 182444]\n",
      "Actual 1-5: [121000 400000 240000 415000  59000 340000 230000 363000 132000 184000]\n",
      "Difference:  [  45604 -134001  -86342 -210821   70449   24457  -92534 -112924   77123\n",
      "   -1556]\n",
      "RMSE:  279.22313317120444\n",
      "R-squared:  0.19301819793295927\n",
      "Model test metrics:\n",
      "Predicted 1-5: [184362 171441 348734 118553 156858 228950 198373 150297 137329 139569]\n",
      "Actual 1-5: [181000 240000 600000  40000 230000 330000 280000 189000 127000 271000]\n",
      "Difference:  [   3362  -68559 -251266   78553  -73142 -101050  -81627  -38703   10329\n",
      " -131431]\n",
      "RMSE:  277.99211007415505\n",
      "R-squared:  0.21156544704176483\n"
     ]
    }
   ],
   "source": [
    "print (\"Model train metrics:\")\n",
    "pred_train = model.predict(X_train)\n",
    "display_results(pred_train, y_train)\n",
    "\n",
    "print(\"Model test metrics:\")\n",
    "pred_test = model.predict(X_test)\n",
    "display_results(pred_test, y_test)"
   ]
  },
  {
   "cell_type": "code",
   "execution_count": null,
   "id": "d491ba27",
   "metadata": {},
   "outputs": [],
   "source": []
  },
  {
   "cell_type": "code",
   "execution_count": null,
   "id": "52d5854f",
   "metadata": {},
   "outputs": [],
   "source": []
  }
 ],
 "metadata": {
  "kernelspec": {
   "display_name": "Python 3 (ipykernel)",
   "language": "python",
   "name": "python3"
  },
  "language_info": {
   "codemirror_mode": {
    "name": "ipython",
    "version": 3
   },
   "file_extension": ".py",
   "mimetype": "text/x-python",
   "name": "python",
   "nbconvert_exporter": "python",
   "pygments_lexer": "ipython3",
   "version": "3.9.7"
  }
 },
 "nbformat": 4,
 "nbformat_minor": 5
}
